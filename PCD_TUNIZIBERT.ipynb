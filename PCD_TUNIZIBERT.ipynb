{
  "cells": [
    {
      "cell_type": "code",
      "execution_count": null,
      "metadata": {
        "id": "zqEZHcBjJ0gO"
      },
      "outputs": [],
      "source": [
        "import numpy as np \n",
        "import pandas as pd \n",
        "\n",
        "# text processing libraries\n",
        "import re\n",
        "import string\n",
        "import nltk\n",
        "from nltk.corpus import stopwords\n",
        "\n",
        "# matplotlib and seaborn for plotting\n",
        "import matplotlib.pyplot as plt\n",
        "import seaborn as sns\n",
        "\n",
        "import warnings \n",
        "warnings.filterwarnings(\"ignore\")\n"
      ],
      "id": "zqEZHcBjJ0gO"
    },
    {
      "cell_type": "markdown",
      "metadata": {
        "id": "60EcbCbwJ0gT"
      },
      "source": [
        "# Uploading train set and test set"
      ],
      "id": "60EcbCbwJ0gT"
    },
    {
      "cell_type": "code",
      "source": [
        "from google.colab import drive\n",
        "drive.mount('/content/drive')"
      ],
      "metadata": {
        "id": "ris6nxdHNo1C",
        "colab": {
          "base_uri": "https://localhost:8080/"
        },
        "outputId": "bf2446d0-c73c-4dd0-f986-fe5e29e07947"
      },
      "id": "ris6nxdHNo1C",
      "execution_count": null,
      "outputs": [
        {
          "output_type": "stream",
          "name": "stdout",
          "text": [
            "Mounted at /content/drive\n"
          ]
        }
      ]
    },
    {
      "cell_type": "code",
      "execution_count": null,
      "metadata": {
        "id": "yPDnormBJ0gY",
        "colab": {
          "base_uri": "https://localhost:8080/"
        },
        "outputId": "4a77ee0c-fc84-42c6-ced1-67c072f639f3"
      },
      "outputs": [
        {
          "output_type": "stream",
          "name": "stdout",
          "text": [
            "Train data shape:  (70000, 3) and test data shape is (30000, 2)\n"
          ]
        }
      ],
      "source": [
        "#Training data\n",
        "train = pd.read_csv('/content/drive/MyDrive/data/Train.csv')\n",
        "test = pd.read_csv('/content/drive/MyDrive/data/Test.csv')\n",
        "print('Train data shape: ', train.shape ,\"and test data shape is\",test.shape)\n"
      ],
      "id": "yPDnormBJ0gY"
    },
    {
      "cell_type": "code",
      "execution_count": null,
      "metadata": {
        "id": "Ro1WEakxJ0ga",
        "colab": {
          "base_uri": "https://localhost:8080/",
          "height": 520
        },
        "outputId": "dd8d6593-d4e7-4938-c020-3b5b00233e45"
      },
      "outputs": [
        {
          "output_type": "execute_result",
          "data": {
            "text/plain": [
              "            ID                                               text  label\n",
              "6670   2ALVE9S         3idek mabrouk wsnine deyma mr le president      1\n",
              "49567  F79SPUZ                                       ba3dek zayed      1\n",
              "50796  KUJG65Q  thaanou ya twenssaa jma33eet ettebssi w rcd ra...      1\n",
              "22310  ZFEJAUX                         tres belle music mon frere      1\n",
              "54037  JVWDYAR  chb 7achek ama 3onsourya ltahki aliha lbehi we...     -1\n",
              "6869   XAXZYM5  ana mkachakh mais slim eryahi 3wen barchhh ca ...      1\n",
              "13601  VI3S9OS                tawou tereb7ou el3aaaasssssbbbbaaaa     -1\n",
              "3271   V36XWH5  farhanin barcha bichoix nabil oildna oi nosbro...      1\n",
              "12647  ESHO33Q                          je m appelle fersi mounir      0\n",
              "13931  G3OLHTE       haka chna9esha l botoula 7ata hya ken bouzid     -1\n",
              "27896  9MRZUAG                              rabby yar7mik ya zgaw      1\n",
              "42115  JW4CYIQ  bilehi ya si slim le tjebna elkanzari 5atrou m...     -1\n",
              "17572  FP77VXY                 inchallah 3idak mabrouk snin deyme      1\n",
              "63407  QYLLIF7   belehi el mrewel el zro9 el jdod wesslou ll parc      1\n",
              "55515  RVAMMET                               rais lik inti wa7dek      1"
            ],
            "text/html": [
              "\n",
              "  <div id=\"df-4ecfbc96-aa09-4544-bf70-d3bb85215d30\">\n",
              "    <div class=\"colab-df-container\">\n",
              "      <div>\n",
              "<style scoped>\n",
              "    .dataframe tbody tr th:only-of-type {\n",
              "        vertical-align: middle;\n",
              "    }\n",
              "\n",
              "    .dataframe tbody tr th {\n",
              "        vertical-align: top;\n",
              "    }\n",
              "\n",
              "    .dataframe thead th {\n",
              "        text-align: right;\n",
              "    }\n",
              "</style>\n",
              "<table border=\"1\" class=\"dataframe\">\n",
              "  <thead>\n",
              "    <tr style=\"text-align: right;\">\n",
              "      <th></th>\n",
              "      <th>ID</th>\n",
              "      <th>text</th>\n",
              "      <th>label</th>\n",
              "    </tr>\n",
              "  </thead>\n",
              "  <tbody>\n",
              "    <tr>\n",
              "      <th>6670</th>\n",
              "      <td>2ALVE9S</td>\n",
              "      <td>3idek mabrouk wsnine deyma mr le president</td>\n",
              "      <td>1</td>\n",
              "    </tr>\n",
              "    <tr>\n",
              "      <th>49567</th>\n",
              "      <td>F79SPUZ</td>\n",
              "      <td>ba3dek zayed</td>\n",
              "      <td>1</td>\n",
              "    </tr>\n",
              "    <tr>\n",
              "      <th>50796</th>\n",
              "      <td>KUJG65Q</td>\n",
              "      <td>thaanou ya twenssaa jma33eet ettebssi w rcd ra...</td>\n",
              "      <td>1</td>\n",
              "    </tr>\n",
              "    <tr>\n",
              "      <th>22310</th>\n",
              "      <td>ZFEJAUX</td>\n",
              "      <td>tres belle music mon frere</td>\n",
              "      <td>1</td>\n",
              "    </tr>\n",
              "    <tr>\n",
              "      <th>54037</th>\n",
              "      <td>JVWDYAR</td>\n",
              "      <td>chb 7achek ama 3onsourya ltahki aliha lbehi we...</td>\n",
              "      <td>-1</td>\n",
              "    </tr>\n",
              "    <tr>\n",
              "      <th>6869</th>\n",
              "      <td>XAXZYM5</td>\n",
              "      <td>ana mkachakh mais slim eryahi 3wen barchhh ca ...</td>\n",
              "      <td>1</td>\n",
              "    </tr>\n",
              "    <tr>\n",
              "      <th>13601</th>\n",
              "      <td>VI3S9OS</td>\n",
              "      <td>tawou tereb7ou el3aaaasssssbbbbaaaa</td>\n",
              "      <td>-1</td>\n",
              "    </tr>\n",
              "    <tr>\n",
              "      <th>3271</th>\n",
              "      <td>V36XWH5</td>\n",
              "      <td>farhanin barcha bichoix nabil oildna oi nosbro...</td>\n",
              "      <td>1</td>\n",
              "    </tr>\n",
              "    <tr>\n",
              "      <th>12647</th>\n",
              "      <td>ESHO33Q</td>\n",
              "      <td>je m appelle fersi mounir</td>\n",
              "      <td>0</td>\n",
              "    </tr>\n",
              "    <tr>\n",
              "      <th>13931</th>\n",
              "      <td>G3OLHTE</td>\n",
              "      <td>haka chna9esha l botoula 7ata hya ken bouzid</td>\n",
              "      <td>-1</td>\n",
              "    </tr>\n",
              "    <tr>\n",
              "      <th>27896</th>\n",
              "      <td>9MRZUAG</td>\n",
              "      <td>rabby yar7mik ya zgaw</td>\n",
              "      <td>1</td>\n",
              "    </tr>\n",
              "    <tr>\n",
              "      <th>42115</th>\n",
              "      <td>JW4CYIQ</td>\n",
              "      <td>bilehi ya si slim le tjebna elkanzari 5atrou m...</td>\n",
              "      <td>-1</td>\n",
              "    </tr>\n",
              "    <tr>\n",
              "      <th>17572</th>\n",
              "      <td>FP77VXY</td>\n",
              "      <td>inchallah 3idak mabrouk snin deyme</td>\n",
              "      <td>1</td>\n",
              "    </tr>\n",
              "    <tr>\n",
              "      <th>63407</th>\n",
              "      <td>QYLLIF7</td>\n",
              "      <td>belehi el mrewel el zro9 el jdod wesslou ll parc</td>\n",
              "      <td>1</td>\n",
              "    </tr>\n",
              "    <tr>\n",
              "      <th>55515</th>\n",
              "      <td>RVAMMET</td>\n",
              "      <td>rais lik inti wa7dek</td>\n",
              "      <td>1</td>\n",
              "    </tr>\n",
              "  </tbody>\n",
              "</table>\n",
              "</div>\n",
              "      <button class=\"colab-df-convert\" onclick=\"convertToInteractive('df-4ecfbc96-aa09-4544-bf70-d3bb85215d30')\"\n",
              "              title=\"Convert this dataframe to an interactive table.\"\n",
              "              style=\"display:none;\">\n",
              "        \n",
              "  <svg xmlns=\"http://www.w3.org/2000/svg\" height=\"24px\"viewBox=\"0 0 24 24\"\n",
              "       width=\"24px\">\n",
              "    <path d=\"M0 0h24v24H0V0z\" fill=\"none\"/>\n",
              "    <path d=\"M18.56 5.44l.94 2.06.94-2.06 2.06-.94-2.06-.94-.94-2.06-.94 2.06-2.06.94zm-11 1L8.5 8.5l.94-2.06 2.06-.94-2.06-.94L8.5 2.5l-.94 2.06-2.06.94zm10 10l.94 2.06.94-2.06 2.06-.94-2.06-.94-.94-2.06-.94 2.06-2.06.94z\"/><path d=\"M17.41 7.96l-1.37-1.37c-.4-.4-.92-.59-1.43-.59-.52 0-1.04.2-1.43.59L10.3 9.45l-7.72 7.72c-.78.78-.78 2.05 0 2.83L4 21.41c.39.39.9.59 1.41.59.51 0 1.02-.2 1.41-.59l7.78-7.78 2.81-2.81c.8-.78.8-2.07 0-2.86zM5.41 20L4 18.59l7.72-7.72 1.47 1.35L5.41 20z\"/>\n",
              "  </svg>\n",
              "      </button>\n",
              "      \n",
              "  <style>\n",
              "    .colab-df-container {\n",
              "      display:flex;\n",
              "      flex-wrap:wrap;\n",
              "      gap: 12px;\n",
              "    }\n",
              "\n",
              "    .colab-df-convert {\n",
              "      background-color: #E8F0FE;\n",
              "      border: none;\n",
              "      border-radius: 50%;\n",
              "      cursor: pointer;\n",
              "      display: none;\n",
              "      fill: #1967D2;\n",
              "      height: 32px;\n",
              "      padding: 0 0 0 0;\n",
              "      width: 32px;\n",
              "    }\n",
              "\n",
              "    .colab-df-convert:hover {\n",
              "      background-color: #E2EBFA;\n",
              "      box-shadow: 0px 1px 2px rgba(60, 64, 67, 0.3), 0px 1px 3px 1px rgba(60, 64, 67, 0.15);\n",
              "      fill: #174EA6;\n",
              "    }\n",
              "\n",
              "    [theme=dark] .colab-df-convert {\n",
              "      background-color: #3B4455;\n",
              "      fill: #D2E3FC;\n",
              "    }\n",
              "\n",
              "    [theme=dark] .colab-df-convert:hover {\n",
              "      background-color: #434B5C;\n",
              "      box-shadow: 0px 1px 3px 1px rgba(0, 0, 0, 0.15);\n",
              "      filter: drop-shadow(0px 1px 2px rgba(0, 0, 0, 0.3));\n",
              "      fill: #FFFFFF;\n",
              "    }\n",
              "  </style>\n",
              "\n",
              "      <script>\n",
              "        const buttonEl =\n",
              "          document.querySelector('#df-4ecfbc96-aa09-4544-bf70-d3bb85215d30 button.colab-df-convert');\n",
              "        buttonEl.style.display =\n",
              "          google.colab.kernel.accessAllowed ? 'block' : 'none';\n",
              "\n",
              "        async function convertToInteractive(key) {\n",
              "          const element = document.querySelector('#df-4ecfbc96-aa09-4544-bf70-d3bb85215d30');\n",
              "          const dataTable =\n",
              "            await google.colab.kernel.invokeFunction('convertToInteractive',\n",
              "                                                     [key], {});\n",
              "          if (!dataTable) return;\n",
              "\n",
              "          const docLinkHtml = 'Like what you see? Visit the ' +\n",
              "            '<a target=\"_blank\" href=https://colab.research.google.com/notebooks/data_table.ipynb>data table notebook</a>'\n",
              "            + ' to learn more about interactive tables.';\n",
              "          element.innerHTML = '';\n",
              "          dataTable['output_type'] = 'display_data';\n",
              "          await google.colab.output.renderOutput(dataTable, element);\n",
              "          const docLink = document.createElement('div');\n",
              "          docLink.innerHTML = docLinkHtml;\n",
              "          element.appendChild(docLink);\n",
              "        }\n",
              "      </script>\n",
              "    </div>\n",
              "  </div>\n",
              "  "
            ]
          },
          "metadata": {},
          "execution_count": 4
        }
      ],
      "source": [
        "train.sample(15,random_state=1)\n"
      ],
      "id": "Ro1WEakxJ0ga"
    },
    {
      "cell_type": "code",
      "execution_count": null,
      "metadata": {
        "id": "Ujw7EwxEJ0gb",
        "colab": {
          "base_uri": "https://localhost:8080/",
          "height": 520
        },
        "outputId": "329d99cc-8ca7-4c8c-d07f-a3864d3cb942"
      },
      "outputs": [
        {
          "output_type": "execute_result",
          "data": {
            "text/plain": [
              "            ID                                               text\n",
              "10747  NDPW3HP                                  alah yar7em omkom\n",
              "12573  GXRZAGE         kol 3am winti 7aie bkhir wild 3ami si slim\n",
              "29676  6783N40  enti sraft sraft karék chrit tour effel ya slo...\n",
              "8856   IOYPDFJ  era2iss mouch ken t7awell el 3ayilt echahid 3a...\n",
              "21098  J71HOMA   brave homme djafer bravo mr djafer de tizi ouzou\n",
              "17458  OE1V7FS                        wwwww belle chanson j adore\n",
              "1476   VJVA15F  ena 3andi talab wa7id madhabeya traj3elna osem...\n",
              "5120   0G7BAD0                             andhaf wa achraf hezeb\n",
              "18338  NLFS3SU                 eli 9olt el kol s7i7 boss ena m3ak\n",
              "28279  QKNKX6E  si thabthoub barra rajaa flous gaddafi wa saye...\n",
              "1684   VARG9CC                              tickets loge à vendre\n",
              "20371  10U5PXX                          zazarr y3adhm 3la mregzyy\n",
              "3608   K0H96CU                         ma fi balekch rak fi tunis\n",
              "13012  02G536K  sans commentaire malla 3efrit ti haw kamelha e...\n",
              "6793   WKD1RFU                         kol3amwanta b1000 5ir 5oya"
            ],
            "text/html": [
              "\n",
              "  <div id=\"df-a0e14588-9714-47be-b852-8bd9c1a12f0d\">\n",
              "    <div class=\"colab-df-container\">\n",
              "      <div>\n",
              "<style scoped>\n",
              "    .dataframe tbody tr th:only-of-type {\n",
              "        vertical-align: middle;\n",
              "    }\n",
              "\n",
              "    .dataframe tbody tr th {\n",
              "        vertical-align: top;\n",
              "    }\n",
              "\n",
              "    .dataframe thead th {\n",
              "        text-align: right;\n",
              "    }\n",
              "</style>\n",
              "<table border=\"1\" class=\"dataframe\">\n",
              "  <thead>\n",
              "    <tr style=\"text-align: right;\">\n",
              "      <th></th>\n",
              "      <th>ID</th>\n",
              "      <th>text</th>\n",
              "    </tr>\n",
              "  </thead>\n",
              "  <tbody>\n",
              "    <tr>\n",
              "      <th>10747</th>\n",
              "      <td>NDPW3HP</td>\n",
              "      <td>alah yar7em omkom</td>\n",
              "    </tr>\n",
              "    <tr>\n",
              "      <th>12573</th>\n",
              "      <td>GXRZAGE</td>\n",
              "      <td>kol 3am winti 7aie bkhir wild 3ami si slim</td>\n",
              "    </tr>\n",
              "    <tr>\n",
              "      <th>29676</th>\n",
              "      <td>6783N40</td>\n",
              "      <td>enti sraft sraft karék chrit tour effel ya slo...</td>\n",
              "    </tr>\n",
              "    <tr>\n",
              "      <th>8856</th>\n",
              "      <td>IOYPDFJ</td>\n",
              "      <td>era2iss mouch ken t7awell el 3ayilt echahid 3a...</td>\n",
              "    </tr>\n",
              "    <tr>\n",
              "      <th>21098</th>\n",
              "      <td>J71HOMA</td>\n",
              "      <td>brave homme djafer bravo mr djafer de tizi ouzou</td>\n",
              "    </tr>\n",
              "    <tr>\n",
              "      <th>17458</th>\n",
              "      <td>OE1V7FS</td>\n",
              "      <td>wwwww belle chanson j adore</td>\n",
              "    </tr>\n",
              "    <tr>\n",
              "      <th>1476</th>\n",
              "      <td>VJVA15F</td>\n",
              "      <td>ena 3andi talab wa7id madhabeya traj3elna osem...</td>\n",
              "    </tr>\n",
              "    <tr>\n",
              "      <th>5120</th>\n",
              "      <td>0G7BAD0</td>\n",
              "      <td>andhaf wa achraf hezeb</td>\n",
              "    </tr>\n",
              "    <tr>\n",
              "      <th>18338</th>\n",
              "      <td>NLFS3SU</td>\n",
              "      <td>eli 9olt el kol s7i7 boss ena m3ak</td>\n",
              "    </tr>\n",
              "    <tr>\n",
              "      <th>28279</th>\n",
              "      <td>QKNKX6E</td>\n",
              "      <td>si thabthoub barra rajaa flous gaddafi wa saye...</td>\n",
              "    </tr>\n",
              "    <tr>\n",
              "      <th>1684</th>\n",
              "      <td>VARG9CC</td>\n",
              "      <td>tickets loge à vendre</td>\n",
              "    </tr>\n",
              "    <tr>\n",
              "      <th>20371</th>\n",
              "      <td>10U5PXX</td>\n",
              "      <td>zazarr y3adhm 3la mregzyy</td>\n",
              "    </tr>\n",
              "    <tr>\n",
              "      <th>3608</th>\n",
              "      <td>K0H96CU</td>\n",
              "      <td>ma fi balekch rak fi tunis</td>\n",
              "    </tr>\n",
              "    <tr>\n",
              "      <th>13012</th>\n",
              "      <td>02G536K</td>\n",
              "      <td>sans commentaire malla 3efrit ti haw kamelha e...</td>\n",
              "    </tr>\n",
              "    <tr>\n",
              "      <th>6793</th>\n",
              "      <td>WKD1RFU</td>\n",
              "      <td>kol3amwanta b1000 5ir 5oya</td>\n",
              "    </tr>\n",
              "  </tbody>\n",
              "</table>\n",
              "</div>\n",
              "      <button class=\"colab-df-convert\" onclick=\"convertToInteractive('df-a0e14588-9714-47be-b852-8bd9c1a12f0d')\"\n",
              "              title=\"Convert this dataframe to an interactive table.\"\n",
              "              style=\"display:none;\">\n",
              "        \n",
              "  <svg xmlns=\"http://www.w3.org/2000/svg\" height=\"24px\"viewBox=\"0 0 24 24\"\n",
              "       width=\"24px\">\n",
              "    <path d=\"M0 0h24v24H0V0z\" fill=\"none\"/>\n",
              "    <path d=\"M18.56 5.44l.94 2.06.94-2.06 2.06-.94-2.06-.94-.94-2.06-.94 2.06-2.06.94zm-11 1L8.5 8.5l.94-2.06 2.06-.94-2.06-.94L8.5 2.5l-.94 2.06-2.06.94zm10 10l.94 2.06.94-2.06 2.06-.94-2.06-.94-.94-2.06-.94 2.06-2.06.94z\"/><path d=\"M17.41 7.96l-1.37-1.37c-.4-.4-.92-.59-1.43-.59-.52 0-1.04.2-1.43.59L10.3 9.45l-7.72 7.72c-.78.78-.78 2.05 0 2.83L4 21.41c.39.39.9.59 1.41.59.51 0 1.02-.2 1.41-.59l7.78-7.78 2.81-2.81c.8-.78.8-2.07 0-2.86zM5.41 20L4 18.59l7.72-7.72 1.47 1.35L5.41 20z\"/>\n",
              "  </svg>\n",
              "      </button>\n",
              "      \n",
              "  <style>\n",
              "    .colab-df-container {\n",
              "      display:flex;\n",
              "      flex-wrap:wrap;\n",
              "      gap: 12px;\n",
              "    }\n",
              "\n",
              "    .colab-df-convert {\n",
              "      background-color: #E8F0FE;\n",
              "      border: none;\n",
              "      border-radius: 50%;\n",
              "      cursor: pointer;\n",
              "      display: none;\n",
              "      fill: #1967D2;\n",
              "      height: 32px;\n",
              "      padding: 0 0 0 0;\n",
              "      width: 32px;\n",
              "    }\n",
              "\n",
              "    .colab-df-convert:hover {\n",
              "      background-color: #E2EBFA;\n",
              "      box-shadow: 0px 1px 2px rgba(60, 64, 67, 0.3), 0px 1px 3px 1px rgba(60, 64, 67, 0.15);\n",
              "      fill: #174EA6;\n",
              "    }\n",
              "\n",
              "    [theme=dark] .colab-df-convert {\n",
              "      background-color: #3B4455;\n",
              "      fill: #D2E3FC;\n",
              "    }\n",
              "\n",
              "    [theme=dark] .colab-df-convert:hover {\n",
              "      background-color: #434B5C;\n",
              "      box-shadow: 0px 1px 3px 1px rgba(0, 0, 0, 0.15);\n",
              "      filter: drop-shadow(0px 1px 2px rgba(0, 0, 0, 0.3));\n",
              "      fill: #FFFFFF;\n",
              "    }\n",
              "  </style>\n",
              "\n",
              "      <script>\n",
              "        const buttonEl =\n",
              "          document.querySelector('#df-a0e14588-9714-47be-b852-8bd9c1a12f0d button.colab-df-convert');\n",
              "        buttonEl.style.display =\n",
              "          google.colab.kernel.accessAllowed ? 'block' : 'none';\n",
              "\n",
              "        async function convertToInteractive(key) {\n",
              "          const element = document.querySelector('#df-a0e14588-9714-47be-b852-8bd9c1a12f0d');\n",
              "          const dataTable =\n",
              "            await google.colab.kernel.invokeFunction('convertToInteractive',\n",
              "                                                     [key], {});\n",
              "          if (!dataTable) return;\n",
              "\n",
              "          const docLinkHtml = 'Like what you see? Visit the ' +\n",
              "            '<a target=\"_blank\" href=https://colab.research.google.com/notebooks/data_table.ipynb>data table notebook</a>'\n",
              "            + ' to learn more about interactive tables.';\n",
              "          element.innerHTML = '';\n",
              "          dataTable['output_type'] = 'display_data';\n",
              "          await google.colab.output.renderOutput(dataTable, element);\n",
              "          const docLink = document.createElement('div');\n",
              "          docLink.innerHTML = docLinkHtml;\n",
              "          element.appendChild(docLink);\n",
              "        }\n",
              "      </script>\n",
              "    </div>\n",
              "  </div>\n",
              "  "
            ]
          },
          "metadata": {},
          "execution_count": 5
        }
      ],
      "source": [
        "test.sample(15,random_state=1)"
      ],
      "id": "Ujw7EwxEJ0gb"
    },
    {
      "cell_type": "markdown",
      "metadata": {
        "id": "z7K7JFFhJ0gb"
      },
      "source": [
        "# Data Visualisation"
      ],
      "id": "z7K7JFFhJ0gb"
    },
    {
      "cell_type": "code",
      "execution_count": null,
      "metadata": {
        "id": "R9IbuB1OJ0gc",
        "colab": {
          "base_uri": "https://localhost:8080/",
          "height": 70
        },
        "outputId": "bd91f3b6-d3fb-4302-8d16-63f42cbbe80d"
      },
      "outputs": [
        {
          "output_type": "execute_result",
          "data": {
            "text/plain": [
              "'bereau degage nathef ya slim walahi ya7chiw fih jma3a lem3amel 3lihom walah kit jib messi lana3mlou chay 7amlet nathafa fil bureaux ca jam3iya 3ari9a mel 3am 94 bdet da5la fi 7it choufelna hal mochkla belehi te5na9na mel fada tous les équipe mergine fina ken jit kifek walah maye5lsouch wi3adiw 3am jaych bech yetrabaw elkoura fi se9ik enti en9eth jam3iya ya slim wna3ref tnajim ta3melha'"
            ],
            "application/vnd.google.colaboratory.intrinsic+json": {
              "type": "string"
            }
          },
          "metadata": {},
          "execution_count": 6
        }
      ],
      "source": [
        "# negative sentiments\n",
        "negative_tweets = train[train['label']==-1]['text']\n",
        "negative_tweets.values[2]"
      ],
      "id": "R9IbuB1OJ0gc"
    },
    {
      "cell_type": "code",
      "execution_count": null,
      "metadata": {
        "id": "a7WvZtc2J0gd",
        "colab": {
          "base_uri": "https://localhost:8080/",
          "height": 35
        },
        "outputId": "255d6679-e19f-4e63-acf9-0977587b63f2"
      },
      "outputs": [
        {
          "output_type": "execute_result",
          "data": {
            "text/plain": [
              "'mabrouk li tounes kolha bi monadhel felecitation congratulation auguri'"
            ],
            "application/vnd.google.colaboratory.intrinsic+json": {
              "type": "string"
            }
          },
          "metadata": {},
          "execution_count": 7
        }
      ],
      "source": [
        "# positive sentiments\n",
        "neutral_tweets = train[train['label']==1]['text']\n",
        "neutral_tweets.values[5]"
      ],
      "id": "a7WvZtc2J0gd"
    },
    {
      "cell_type": "code",
      "execution_count": null,
      "metadata": {
        "id": "riYBRHO5J0ge",
        "colab": {
          "base_uri": "https://localhost:8080/",
          "height": 35
        },
        "outputId": "3283b9c4-1a76-4b16-c93c-5c867e59acb9"
      },
      "outputs": [
        {
          "output_type": "execute_result",
          "data": {
            "text/plain": [
              "'slm brabi kifeh enajmo enbadlo meken alinti5ab'"
            ],
            "application/vnd.google.colaboratory.intrinsic+json": {
              "type": "string"
            }
          },
          "metadata": {},
          "execution_count": 8
        }
      ],
      "source": [
        "# neutral sentiments\n",
        "neutral_tweets = train[train['label']==0]['text']\n",
        "neutral_tweets.values[4]\n"
      ],
      "id": "riYBRHO5J0ge"
    },
    {
      "cell_type": "code",
      "execution_count": null,
      "metadata": {
        "colab": {
          "base_uri": "https://localhost:8080/"
        },
        "id": "YiwnSigNJ0gf",
        "outputId": "a7a07ab8-ba46-4063-81cb-179e3e3fd547"
      },
      "outputs": [
        {
          "output_type": "stream",
          "name": "stdout",
          "text": [
            " 1    38239\n",
            "-1    29295\n",
            " 0     2466\n",
            "Name: label, dtype: int64\n"
          ]
        }
      ],
      "source": [
        "#Distribution of the label Column\n",
        "print(train.label.value_counts())\n",
        "#not a good distribution"
      ],
      "id": "YiwnSigNJ0gf"
    },
    {
      "cell_type": "code",
      "execution_count": null,
      "metadata": {
        "scrolled": true,
        "colab": {
          "base_uri": "https://localhost:8080/",
          "height": 286
        },
        "id": "ZcdArr0HJ0gg",
        "outputId": "8aebbda4-1589-4850-b2c7-8c0dc6156914"
      },
      "outputs": [
        {
          "output_type": "execute_result",
          "data": {
            "text/plain": [
              "<matplotlib.axes._subplots.AxesSubplot at 0x7fa887140550>"
            ]
          },
          "metadata": {},
          "execution_count": 10
        },
        {
          "output_type": "display_data",
          "data": {
            "text/plain": [
              "<Figure size 432x288 with 1 Axes>"
            ],
            "image/png": "[encoded data removed]"
          },
          "metadata": {
            "needs_background": "light"
          }
        }
      ],
      "source": [
        "#Using seaborn to visualize the #istribution of the label Column \n",
        "sns.barplot(train['label'].value_counts().index,train['label'].value_counts())"
      ],
      "id": "ZcdArr0HJ0gg"
    },
    {
      "cell_type": "markdown",
      "metadata": {
        "id": "6JIdM0uuJ0gh"
      },
      "source": [
        "# data preprocessing"
      ],
      "id": "6JIdM0uuJ0gh"
    },
    {
      "cell_type": "code",
      "execution_count": null,
      "metadata": {
        "colab": {
          "base_uri": "https://localhost:8080/"
        },
        "id": "wqWUYIn6J0gi",
        "outputId": "372d017e-130b-4fd0-e828-8c574ba4d5e8"
      },
      "outputs": [
        {
          "output_type": "execute_result",
          "data": {
            "text/plain": [
              "ID       0\n",
              "text     0\n",
              "label    0\n",
              "dtype: int64"
            ]
          },
          "metadata": {},
          "execution_count": 11
        }
      ],
      "source": [
        "#Missing values --> No missing values\n",
        "train.isnull().sum()"
      ],
      "id": "wqWUYIn6J0gi"
    },
    {
      "cell_type": "code",
      "execution_count": null,
      "metadata": {
        "id": "VGEkJ4e_J0gj"
      },
      "outputs": [],
      "source": [
        "train\n",
        "aux = pd.DataFrame()\n",
        "aux[\"ID\"] = train[\"ID\"]\n",
        "aux['text'] = train['text']\n",
        "aux['label'] = train['label']\n"
      ],
      "id": "VGEkJ4e_J0gj"
    },
    {
      "cell_type": "code",
      "source": [
        "indexNames = aux[ aux['label'] == 0 ].index\n",
        "aux.drop(indexNames , inplace=True)"
      ],
      "metadata": {
        "id": "jsMZYrfbGkiv"
      },
      "id": "jsMZYrfbGkiv",
      "execution_count": null,
      "outputs": []
    },
    {
      "cell_type": "code",
      "source": [
        ""
      ],
      "metadata": {
        "id": "31C4b8c0Ms51"
      },
      "id": "31C4b8c0Ms51",
      "execution_count": null,
      "outputs": []
    },
    {
      "cell_type": "code",
      "source": [
        "sns.barplot(aux['label'].value_counts().index,aux['label'].value_counts())"
      ],
      "metadata": {
        "colab": {
          "base_uri": "https://localhost:8080/",
          "height": 286
        },
        "id": "09ncw74HzxXE",
        "outputId": "db06100f-35ec-403b-f7db-e6e84edca5e0"
      },
      "id": "09ncw74HzxXE",
      "execution_count": null,
      "outputs": [
        {
          "output_type": "execute_result",
          "data": {
            "text/plain": [
              "<matplotlib.axes._subplots.AxesSubplot at 0x7fa887035a50>"
            ]
          },
          "metadata": {},
          "execution_count": 14
        },
        {
          "output_type": "display_data",
          "data": {
            "text/plain": [
              "<Figure size 432x288 with 1 Axes>"
            ],
            "image/png": "[encoded data removed]"
          },
          "metadata": {
            "needs_background": "light"
          }
        }
      ]
    },
    {
      "cell_type": "code",
      "execution_count": null,
      "metadata": {
        "id": "Ur6dOCt1J0gk"
      },
      "outputs": [],
      "source": [
        "def remove_consec_duplicates(s):\n",
        "    new_s = \"\"\n",
        "    prev = \"\"\n",
        "    for c in s:\n",
        "        if len(new_s) == 0:\n",
        "            new_s += c\n",
        "            # print(\"if 1 new_s\",new_s)\n",
        "            prev = c\n",
        "            #print(\"if 1 prev\",prev)\n",
        "        if c == prev : \n",
        "            continue\n",
        "        else:\n",
        "            new_s += c\n",
        "            #print(\"if 2 new_s\",new_s)\n",
        "            prev = c\n",
        "            #print(\"if 2 prev\",prev)\n",
        "    return new_s\n",
        "# fonction tnaa7i l 7rouuf eli m3awdin consecutivement b khlef caractére h khatrou significatif pour \"hhhhhh\" qui exprime un sentiment positif parfois"
      ],
      "id": "Ur6dOCt1J0gk"
    },
    {
      "cell_type": "code",
      "execution_count": null,
      "metadata": {
        "scrolled": false,
        "id": "V9OWeq1dJ0gl"
      },
      "outputs": [],
      "source": [
        "aux[\"text\"]=aux['text'].apply(lambda x :remove_consec_duplicates(x))"
      ],
      "id": "V9OWeq1dJ0gl"
    },
    {
      "cell_type": "code",
      "execution_count": null,
      "metadata": {
        "id": "l-93lIKCJ0gn"
      },
      "outputs": [],
      "source": [
        "#train.compare(aux)"
      ],
      "id": "l-93lIKCJ0gn"
    },
    {
      "cell_type": "code",
      "execution_count": null,
      "metadata": {
        "id": "qsDmzMgEJ0go"
      },
      "outputs": [],
      "source": [
        "def data_cleaning(text):\n",
        "    text = text.lower() #Make text lowercase\n",
        "    text = re.sub('\\[.*?\\]', '', text) #remove text in square brackets\n",
        "    text = re.sub('https?://\\S+|www\\.\\S+', '', text) #remove links\n",
        "    text = re.sub('<.*?>+', '', text) #remove text in <...>\n",
        "    text = re.sub('[%s]' % re.escape(string.punctuation), '', text) #remove punctuation\n",
        "    text = re.sub('\\n', '', text) #remove end of line character\n",
        "    text = re.sub('3','a',text)\n",
        "    text = re.sub('2','a',text)\n",
        "    text = re.sub('4','dh',text)\n",
        "    text = re.sub('5','kh',text)\n",
        "    text = re.sub('7','h',text)\n",
        "    text = re.sub('9','k',text)\n",
        "    text = re.sub('8','gh',text)\n",
        "    return text\n"
      ],
      "id": "qsDmzMgEJ0go"
    },
    {
      "cell_type": "code",
      "execution_count": null,
      "metadata": {
        "id": "Ljtc2ExHJ0gp"
      },
      "outputs": [],
      "source": [
        "aux['text'] = aux['text'].apply(lambda x: data_cleaning(x)) \n",
        "test['text'] = test['text'].apply(lambda x: data_cleaning(x))"
      ],
      "id": "Ljtc2ExHJ0gp"
    },
    {
      "cell_type": "code",
      "execution_count": null,
      "metadata": {
        "colab": {
          "base_uri": "https://localhost:8080/",
          "height": 206
        },
        "id": "DwVuKN-JJ0gq",
        "outputId": "61c61b21-bc6d-4ab5-e61b-e2bf90cf1db2"
      },
      "outputs": [
        {
          "output_type": "execute_result",
          "data": {
            "text/plain": [
              "        ID                                               text  label\n",
              "0  13P0QT0            asba lek ou le seim riahi ou asba le ca     -1\n",
              "1  SKCLXCJ        chaaeb feykelkoum menghir tahayoul ou kresi     -1\n",
              "2  V1TVXIJ  bereau degage nathef ya slim walahi yahchiw fi...     -1\n",
              "3  U0TTYY8                                          ak slouma      1\n",
              "4  68DX797  entom titmanou lina ahna aid moubarik ahna cha...     -1"
            ],
            "text/html": [
              "\n",
              "  <div id=\"df-a339398a-f5a0-4536-80ce-527544199325\">\n",
              "    <div class=\"colab-df-container\">\n",
              "      <div>\n",
              "<style scoped>\n",
              "    .dataframe tbody tr th:only-of-type {\n",
              "        vertical-align: middle;\n",
              "    }\n",
              "\n",
              "    .dataframe tbody tr th {\n",
              "        vertical-align: top;\n",
              "    }\n",
              "\n",
              "    .dataframe thead th {\n",
              "        text-align: right;\n",
              "    }\n",
              "</style>\n",
              "<table border=\"1\" class=\"dataframe\">\n",
              "  <thead>\n",
              "    <tr style=\"text-align: right;\">\n",
              "      <th></th>\n",
              "      <th>ID</th>\n",
              "      <th>text</th>\n",
              "      <th>label</th>\n",
              "    </tr>\n",
              "  </thead>\n",
              "  <tbody>\n",
              "    <tr>\n",
              "      <th>0</th>\n",
              "      <td>13P0QT0</td>\n",
              "      <td>asba lek ou le seim riahi ou asba le ca</td>\n",
              "      <td>-1</td>\n",
              "    </tr>\n",
              "    <tr>\n",
              "      <th>1</th>\n",
              "      <td>SKCLXCJ</td>\n",
              "      <td>chaaeb feykelkoum menghir tahayoul ou kresi</td>\n",
              "      <td>-1</td>\n",
              "    </tr>\n",
              "    <tr>\n",
              "      <th>2</th>\n",
              "      <td>V1TVXIJ</td>\n",
              "      <td>bereau degage nathef ya slim walahi yahchiw fi...</td>\n",
              "      <td>-1</td>\n",
              "    </tr>\n",
              "    <tr>\n",
              "      <th>3</th>\n",
              "      <td>U0TTYY8</td>\n",
              "      <td>ak slouma</td>\n",
              "      <td>1</td>\n",
              "    </tr>\n",
              "    <tr>\n",
              "      <th>4</th>\n",
              "      <td>68DX797</td>\n",
              "      <td>entom titmanou lina ahna aid moubarik ahna cha...</td>\n",
              "      <td>-1</td>\n",
              "    </tr>\n",
              "  </tbody>\n",
              "</table>\n",
              "</div>\n",
              "      <button class=\"colab-df-convert\" onclick=\"convertToInteractive('df-a339398a-f5a0-4536-80ce-527544199325')\"\n",
              "              title=\"Convert this dataframe to an interactive table.\"\n",
              "              style=\"display:none;\">\n",
              "        \n",
              "  <svg xmlns=\"http://www.w3.org/2000/svg\" height=\"24px\"viewBox=\"0 0 24 24\"\n",
              "       width=\"24px\">\n",
              "    <path d=\"M0 0h24v24H0V0z\" fill=\"none\"/>\n",
              "    <path d=\"M18.56 5.44l.94 2.06.94-2.06 2.06-.94-2.06-.94-.94-2.06-.94 2.06-2.06.94zm-11 1L8.5 8.5l.94-2.06 2.06-.94-2.06-.94L8.5 2.5l-.94 2.06-2.06.94zm10 10l.94 2.06.94-2.06 2.06-.94-2.06-.94-.94-2.06-.94 2.06-2.06.94z\"/><path d=\"M17.41 7.96l-1.37-1.37c-.4-.4-.92-.59-1.43-.59-.52 0-1.04.2-1.43.59L10.3 9.45l-7.72 7.72c-.78.78-.78 2.05 0 2.83L4 21.41c.39.39.9.59 1.41.59.51 0 1.02-.2 1.41-.59l7.78-7.78 2.81-2.81c.8-.78.8-2.07 0-2.86zM5.41 20L4 18.59l7.72-7.72 1.47 1.35L5.41 20z\"/>\n",
              "  </svg>\n",
              "      </button>\n",
              "      \n",
              "  <style>\n",
              "    .colab-df-container {\n",
              "      display:flex;\n",
              "      flex-wrap:wrap;\n",
              "      gap: 12px;\n",
              "    }\n",
              "\n",
              "    .colab-df-convert {\n",
              "      background-color: #E8F0FE;\n",
              "      border: none;\n",
              "      border-radius: 50%;\n",
              "      cursor: pointer;\n",
              "      display: none;\n",
              "      fill: #1967D2;\n",
              "      height: 32px;\n",
              "      padding: 0 0 0 0;\n",
              "      width: 32px;\n",
              "    }\n",
              "\n",
              "    .colab-df-convert:hover {\n",
              "      background-color: #E2EBFA;\n",
              "      box-shadow: 0px 1px 2px rgba(60, 64, 67, 0.3), 0px 1px 3px 1px rgba(60, 64, 67, 0.15);\n",
              "      fill: #174EA6;\n",
              "    }\n",
              "\n",
              "    [theme=dark] .colab-df-convert {\n",
              "      background-color: #3B4455;\n",
              "      fill: #D2E3FC;\n",
              "    }\n",
              "\n",
              "    [theme=dark] .colab-df-convert:hover {\n",
              "      background-color: #434B5C;\n",
              "      box-shadow: 0px 1px 3px 1px rgba(0, 0, 0, 0.15);\n",
              "      filter: drop-shadow(0px 1px 2px rgba(0, 0, 0, 0.3));\n",
              "      fill: #FFFFFF;\n",
              "    }\n",
              "  </style>\n",
              "\n",
              "      <script>\n",
              "        const buttonEl =\n",
              "          document.querySelector('#df-a339398a-f5a0-4536-80ce-527544199325 button.colab-df-convert');\n",
              "        buttonEl.style.display =\n",
              "          google.colab.kernel.accessAllowed ? 'block' : 'none';\n",
              "\n",
              "        async function convertToInteractive(key) {\n",
              "          const element = document.querySelector('#df-a339398a-f5a0-4536-80ce-527544199325');\n",
              "          const dataTable =\n",
              "            await google.colab.kernel.invokeFunction('convertToInteractive',\n",
              "                                                     [key], {});\n",
              "          if (!dataTable) return;\n",
              "\n",
              "          const docLinkHtml = 'Like what you see? Visit the ' +\n",
              "            '<a target=\"_blank\" href=https://colab.research.google.com/notebooks/data_table.ipynb>data table notebook</a>'\n",
              "            + ' to learn more about interactive tables.';\n",
              "          element.innerHTML = '';\n",
              "          dataTable['output_type'] = 'display_data';\n",
              "          await google.colab.output.renderOutput(dataTable, element);\n",
              "          const docLink = document.createElement('div');\n",
              "          docLink.innerHTML = docLinkHtml;\n",
              "          element.appendChild(docLink);\n",
              "        }\n",
              "      </script>\n",
              "    </div>\n",
              "  </div>\n",
              "  "
            ]
          },
          "metadata": {},
          "execution_count": 20
        }
      ],
      "source": [
        "aux.head()"
      ],
      "id": "DwVuKN-JJ0gq"
    },
    {
      "cell_type": "code",
      "source": [
        "aux[\"text\"] = aux[\"text\"].apply(lambda x: \" \".join([w for w in x.split() if len(w)>2]))\n",
        "#removing words whose length is less than 2"
      ],
      "metadata": {
        "id": "VS6IOZCNriNd"
      },
      "id": "VS6IOZCNriNd",
      "execution_count": null,
      "outputs": []
    },
    {
      "cell_type": "code",
      "execution_count": null,
      "metadata": {
        "id": "5LUMTtq7J0gr"
      },
      "outputs": [],
      "source": [
        "#train.compare(aux)"
      ],
      "id": "5LUMTtq7J0gr"
    },
    {
      "cell_type": "code",
      "execution_count": null,
      "metadata": {
        "colab": {
          "base_uri": "https://localhost:8080/"
        },
        "id": "SlqT4zHDJ0gs",
        "outputId": "3be0ca52-4de0-4230-acbf-c55f6a4c8587"
      },
      "outputs": [
        {
          "output_type": "stream",
          "name": "stdout",
          "text": [
            "Number of tokens before normalization: 144333\n",
            "Number of tokens after normalization: 115076\n",
            "number of words dropped after normalization and preprocessing is 29257\n"
          ]
        }
      ],
      "source": [
        "#size of vocabulary before preprocessing\n",
        "corpus1 = ' '.join(list(train['text']))\n",
        "\n",
        "print('Number of tokens before normalization:',len(set((corpus1.split(' ')))))\n",
        "\n",
        "corpus2 = ' '.join(list(aux['text']))\n",
        "\n",
        "print('Number of tokens after normalization:',len(set((corpus2.split(' ')))))\n",
        "\n",
        "print(\"number of words dropped after normalization and preprocessing is\",len(set((corpus1.split(' '))))-len(set((corpus2.split(' ')))))"
      ],
      "id": "SlqT4zHDJ0gs"
    },
    {
      "cell_type": "markdown",
      "metadata": {
        "id": "Zcg9sqxtJ0gu"
      },
      "source": [
        "# separate cloud"
      ],
      "id": "Zcg9sqxtJ0gu"
    },
    {
      "cell_type": "code",
      "execution_count": null,
      "metadata": {
        "colab": {
          "base_uri": "https://localhost:8080/"
        },
        "id": "ZhBcX-vlJ0gu",
        "outputId": "4230fe5a-a3e5-4887-8c61-b391dd6ccbdf"
      },
      "outputs": [
        {
          "output_type": "stream",
          "name": "stdout",
          "text": [
            "Requirement already satisfied: wordcloud in /usr/local/lib/python3.7/dist-packages (1.5.0)\n",
            "Requirement already satisfied: pillow in /usr/local/lib/python3.7/dist-packages (from wordcloud) (7.1.2)\n",
            "Requirement already satisfied: numpy>=1.6.1 in /usr/local/lib/python3.7/dist-packages (from wordcloud) (1.21.6)\n"
          ]
        }
      ],
      "source": [
        "!pip install wordcloud"
      ],
      "id": "ZhBcX-vlJ0gu"
    },
    {
      "cell_type": "code",
      "execution_count": null,
      "metadata": {
        "colab": {
          "base_uri": "https://localhost:8080/"
        },
        "id": "AIkV9jDAJ0gw",
        "outputId": "028bcd86-516f-4cb0-96ae-9eca9b1a1cc2"
      },
      "outputs": [
        {
          "output_type": "stream",
          "name": "stdout",
          "text": [
            "les mots les plus repétés pour les sentiments positifs [('rabi', 6915), ('slim', 4333), ('bravo', 3519), ('maak', 2672), ('alah', 2180), ('slouma', 2053), ('kol', 1946), ('ala', 1547), ('mabrouk', 1508), ('maalem', 1349), ('eli', 1120), ('nchalah', 1073), ('dima', 1018), ('inchalah', 977), ('bech', 961), ('khir', 940), ('barcha', 929), ('aam', 862), ('ama', 806), ('men', 792), ('alik', 790), ('ken', 755), ('ahna', 733), ('riahi', 687), ('brabi', 652), ('tounes', 651), ('walah', 647), ('ena', 605), ('aala', 603), ('ana', 592), ('bon', 575), ('club', 551), ('ili', 531), ('haja', 530), ('les', 525), ('mak', 517), ('enti', 514), ('ahla', 505), ('min', 504), ('merci', 501)]\n",
            "les mots les plus repétés pour les sentiments négatifs [('slim', 2619), ('ala', 2222), ('eli', 2049), ('bech', 1950), ('ken', 1860), ('rabi', 1548), ('men', 1328), ('kol', 1328), ('mala', 1163), ('hata', 1097), ('alah', 1071), ('bara', 1032), ('fih', 1023), ('ama', 994), ('ili', 975), ('enti', 968), ('tawa', 921), ('min', 909), ('aala', 905), ('wala', 858), ('chay', 833), ('tounes', 819), ('mouch', 782), ('fil', 760), ('taw', 741), ('brabi', 735), ('barcha', 735), ('haja', 696), ('alik', 693), ('chkoun', 686), ('les', 663), ('fel', 645), ('kan', 640), ('riahi', 622), ('kif', 608), ('ena', 594), ('kima', 584), ('khir', 582), ('hal', 577), ('flous', 559)]\n"
          ]
        }
      ],
      "source": [
        "import collections \n",
        "from collections import Counter\n",
        "# afficher les mots les plus repétés pour les sentiments positifs\n",
        "print(\"les mots les plus repétés pour les sentiments positifs\",Counter(\" \".join(aux[\"text\"][aux[\"label\"]==1]).split()).most_common(40))\n",
        "\n",
        "# afficher les mots les plus repétés pour les sentiments négatifs\n",
        "print(\"les mots les plus repétés pour les sentiments négatifs\",Counter(\" \".join(aux[\"text\"][aux[\"label\"]==-1]).split()).most_common(40))\n"
      ],
      "id": "AIkV9jDAJ0gw"
    },
    {
      "cell_type": "code",
      "execution_count": null,
      "metadata": {
        "colab": {
          "base_uri": "https://localhost:8080/"
        },
        "id": "D4TrgksBJ0gy",
        "outputId": "70144aa9-95b5-4e1f-862f-54887de28881"
      },
      "outputs": [
        {
          "output_type": "stream",
          "name": "stdout",
          "text": [
            "['rabi', 'slim', 'bravo', 'maak', 'alah', 'slouma', 'kol', 'ala', 'mabrouk', 'maalem', 'eli', 'nchalah', 'dima', 'inchalah', 'bech', 'khir', 'barcha', 'aam', 'ama', 'men', 'alik', 'ken', 'ahna', 'riahi', 'brabi', 'tounes', 'walah', 'ena', 'aala', 'ana', 'bon', 'club', 'ili', 'haja', 'les', 'mak', 'enti', 'ahla', 'min', 'merci', 'maa', 'saha', 'fil', 'rajel', 'hata', 'bien', 'wlh', 'tawa', 'bone', 'alina', 'patron', 'vive', 'nchala', 'wala', 'president', 'haka', 'fel', 'fih', 'mouch', 'chaab', 'yarhmou', 'mala', 'chay', 'kima', 'lkol', 'fik', 'est', 'tunis', 'inti', 'bos', 'maana', 'enchalah', 'hay', 'rak', 'wenti', 'nes', 'pour', 'dawla', 'tounis', 'wel']\n",
            "['slim', 'ala', 'eli', 'bech', 'ken', 'rabi', 'men', 'kol', 'mala', 'hata', 'alah', 'bara', 'fih', 'ama', 'ili', 'enti', 'tawa', 'min', 'aala', 'wala', 'chay', 'tounes', 'mouch', 'fil', 'taw', 'brabi', 'barcha', 'haja', 'alik', 'chkoun', 'les', 'fel', 'kan', 'riahi', 'kif', 'ena', 'kima', 'khir', 'hal', 'flous', 'maa', 'aal', 'mtaa', 'haka', 'club', 'mel', 'fik', 'bel', 'fama', 'inti', 'ahna', 'nes', 'walah', 'ana', 'ben', 'wel', 'lkol', 'howa', 'khater', 'rajel', 'alih', 'bled', 'wlh', 'fiha', 'dima', 'maak', 'lel', 'est', 'chaab', 'mais', 'had', 'wela', 'hedha', 'ech', 'ali', 'tahki', 'kbal', 'pas', 'wahed', 'houma']\n"
          ]
        }
      ],
      "source": [
        "from collections import Counter\n",
        "positifs=[]\n",
        "négatifs=[]\n",
        "for i in range(80):\n",
        "    positifs.append((Counter(\" \".join(aux[\"text\"][aux[\"label\"]==1]).split()).most_common(80))[i][0])\n",
        "print(positifs)\n",
        "for i in range(80):\n",
        "    négatifs.append((Counter(\" \".join(aux[\"text\"][aux[\"label\"]==-1]).split()).most_common(80))[i][0])\n",
        "print(négatifs)\n",
        "\n"
      ],
      "id": "D4TrgksBJ0gy"
    },
    {
      "cell_type": "code",
      "execution_count": null,
      "metadata": {
        "scrolled": true,
        "id": "yvfrAnA0J0gz",
        "colab": {
          "base_uri": "https://localhost:8080/",
          "height": 380
        },
        "outputId": "4f512dd9-4723-46cb-b508-366694a5ac60"
      },
      "outputs": [
        {
          "output_type": "display_data",
          "data": {
            "text/plain": [
              "<Figure size 720x504 with 1 Axes>"
            ],
            "image/png": "[encoded data removed]"
          },
          "metadata": {
            "needs_background": "light"
          }
        }
      ],
      "source": [
        "#positive \n",
        "from wordcloud import WordCloud\n",
        "positive_words =\" \".join([text for text in positifs])\n",
        "word_cloud = WordCloud(width=800,height=500,random_state=1,max_font_size=80).generate(positive_words)\n",
        "plt.figure(figsize=(10,7))\n",
        "plt.imshow(word_cloud,interpolation=\"bilinear\")\n",
        "plt.axis(\"off\")\n",
        "plt.show()"
      ],
      "id": "yvfrAnA0J0gz"
    },
    {
      "cell_type": "code",
      "execution_count": null,
      "metadata": {
        "scrolled": false,
        "id": "AvwTvMdHJ0g1",
        "colab": {
          "base_uri": "https://localhost:8080/",
          "height": 380
        },
        "outputId": "5f597c43-b02c-4892-850a-d744013405b6"
      },
      "outputs": [
        {
          "output_type": "display_data",
          "data": {
            "text/plain": [
              "<Figure size 720x504 with 1 Axes>"
            ],
            "image/png": "[encoded data removed]"
          },
          "metadata": {
            "needs_background": "light"
          }
        }
      ],
      "source": [
        "#negative \n",
        "from wordcloud import WordCloud\n",
        "négatifs_words =\" \".join([text for text in négatifs])\n",
        "word_cloud = WordCloud(width=800,height=500,random_state=1,max_font_size=80).generate(négatifs_words)\n",
        "plt.figure(figsize=(10,7))\n",
        "plt.imshow(word_cloud,interpolation=\"bilinear\")\n",
        "plt.axis(\"off\")\n",
        "plt.show()"
      ],
      "id": "AvwTvMdHJ0g1"
    },
    {
      "cell_type": "markdown",
      "source": [
        "**TUNIZIBERT**"
      ],
      "metadata": {
        "id": "NHbNnJX4KT3g"
      },
      "id": "NHbNnJX4KT3g"
    },
    {
      "cell_type": "code",
      "source": [
        "!pip install transformers "
      ],
      "metadata": {
        "id": "jD8ODyBNMygR",
        "colab": {
          "base_uri": "https://localhost:8080/"
        },
        "outputId": "e6288edd-5b02-4c50-cc40-cd6b9af73c58"
      },
      "id": "jD8ODyBNMygR",
      "execution_count": null,
      "outputs": [
        {
          "output_type": "stream",
          "name": "stdout",
          "text": [
            "Collecting transformers\n",
            "  Downloading transformers-4.18.0-py3-none-any.whl (4.0 MB)\n",
            "\u001b[K     |████████████████████████████████| 4.0 MB 4.3 MB/s \n",
            "\u001b[?25hRequirement already satisfied: requests in /usr/local/lib/python3.7/dist-packages (from transformers) (2.23.0)\n",
            "Requirement already satisfied: importlib-metadata in /usr/local/lib/python3.7/dist-packages (from transformers) (4.11.3)\n",
            "Collecting sacremoses\n",
            "  Downloading sacremoses-0.0.49-py3-none-any.whl (895 kB)\n",
            "\u001b[K     |████████████████████████████████| 895 kB 48.1 MB/s \n",
            "\u001b[?25hRequirement already satisfied: filelock in /usr/local/lib/python3.7/dist-packages (from transformers) (3.6.0)\n",
            "Collecting pyyaml>=5.1\n",
            "  Downloading PyYAML-6.0-cp37-cp37m-manylinux_2_5_x86_64.manylinux1_x86_64.manylinux_2_12_x86_64.manylinux2010_x86_64.whl (596 kB)\n",
            "\u001b[K     |████████████████████████████████| 596 kB 41.2 MB/s \n",
            "\u001b[?25hRequirement already satisfied: tqdm>=4.27 in /usr/local/lib/python3.7/dist-packages (from transformers) (4.64.0)\n",
            "Requirement already satisfied: numpy>=1.17 in /usr/local/lib/python3.7/dist-packages (from transformers) (1.21.6)\n",
            "Collecting tokenizers!=0.11.3,<0.13,>=0.11.1\n",
            "  Downloading tokenizers-0.12.1-cp37-cp37m-manylinux_2_12_x86_64.manylinux2010_x86_64.whl (6.6 MB)\n",
            "\u001b[K     |████████████████████████████████| 6.6 MB 28.8 MB/s \n",
            "\u001b[?25hRequirement already satisfied: regex!=2019.12.17 in /usr/local/lib/python3.7/dist-packages (from transformers) (2019.12.20)\n",
            "Collecting huggingface-hub<1.0,>=0.1.0\n",
            "  Downloading huggingface_hub-0.5.1-py3-none-any.whl (77 kB)\n",
            "\u001b[K     |████████████████████████████████| 77 kB 6.1 MB/s \n",
            "\u001b[?25hRequirement already satisfied: packaging>=20.0 in /usr/local/lib/python3.7/dist-packages (from transformers) (21.3)\n",
            "Requirement already satisfied: typing-extensions>=3.7.4.3 in /usr/local/lib/python3.7/dist-packages (from huggingface-hub<1.0,>=0.1.0->transformers) (4.2.0)\n",
            "Requirement already satisfied: pyparsing!=3.0.5,>=2.0.2 in /usr/local/lib/python3.7/dist-packages (from packaging>=20.0->transformers) (3.0.8)\n",
            "Requirement already satisfied: zipp>=0.5 in /usr/local/lib/python3.7/dist-packages (from importlib-metadata->transformers) (3.8.0)\n",
            "Requirement already satisfied: urllib3!=1.25.0,!=1.25.1,<1.26,>=1.21.1 in /usr/local/lib/python3.7/dist-packages (from requests->transformers) (1.24.3)\n",
            "Requirement already satisfied: chardet<4,>=3.0.2 in /usr/local/lib/python3.7/dist-packages (from requests->transformers) (3.0.4)\n",
            "Requirement already satisfied: idna<3,>=2.5 in /usr/local/lib/python3.7/dist-packages (from requests->transformers) (2.10)\n",
            "Requirement already satisfied: certifi>=2017.4.17 in /usr/local/lib/python3.7/dist-packages (from requests->transformers) (2021.10.8)\n",
            "Requirement already satisfied: click in /usr/local/lib/python3.7/dist-packages (from sacremoses->transformers) (7.1.2)\n",
            "Requirement already satisfied: joblib in /usr/local/lib/python3.7/dist-packages (from sacremoses->transformers) (1.1.0)\n",
            "Requirement already satisfied: six in /usr/local/lib/python3.7/dist-packages (from sacremoses->transformers) (1.15.0)\n",
            "Installing collected packages: pyyaml, tokenizers, sacremoses, huggingface-hub, transformers\n",
            "  Attempting uninstall: pyyaml\n",
            "    Found existing installation: PyYAML 3.13\n",
            "    Uninstalling PyYAML-3.13:\n",
            "      Successfully uninstalled PyYAML-3.13\n",
            "Successfully installed huggingface-hub-0.5.1 pyyaml-6.0 sacremoses-0.0.49 tokenizers-0.12.1 transformers-4.18.0\n"
          ]
        }
      ]
    },
    {
      "cell_type": "code",
      "source": [
        "import torch\n",
        "if torch.cuda.is_available():       \n",
        "    device = torch.device(\"cuda\")\n",
        "    print(f'There are {torch.cuda.device_count()} GPU(s) available.')\n",
        "    print('Device name:', torch.cuda.get_device_name(0))\n",
        "\n",
        "else:\n",
        "    print('No GPU available, using the CPU instead.')\n",
        "    device = torch.device(\"cpu\")"
      ],
      "metadata": {
        "id": "7j3ve9n6M2r2",
        "colab": {
          "base_uri": "https://localhost:8080/"
        },
        "outputId": "369b049e-9f33-48c4-e1d3-4e36d6ae18df"
      },
      "id": "7j3ve9n6M2r2",
      "execution_count": null,
      "outputs": [
        {
          "output_type": "stream",
          "name": "stdout",
          "text": [
            "There are 1 GPU(s) available.\n",
            "Device name: Tesla K80\n"
          ]
        }
      ]
    },
    {
      "cell_type": "code",
      "source": [
        "from transformers import BertModel, BertTokenizer, AdamW, get_linear_schedule_with_warmup\n",
        "pretrained_model= 'bert-base-uncased' \n",
        "tokenizer = BertTokenizer.from_pretrained(pretrained_model, do_lower_case=True)"
      ],
      "metadata": {
        "id": "Hkxy6uPSKLkH",
        "colab": {
          "base_uri": "https://localhost:8080/",
          "height": 113,
          "referenced_widgets": [
            "e332db1b713c4962af68c6b663b18dbf",
            "abc13d4892554519ba1e6d7b810dd78a",
            "359114bdc59a4b238125f154032eb52c",
            "276e9fca90494feeaa74c2f2e6bd059a",
            "0c6b27d0017e4097b9a0ec62f14c388a",
            "79c46c7f98764089a97cac1039d1b864",
            "6e3ffab985cc4485a15e332144f98d52",
            "dda79abead094728bdf27a6e1cb62717",
            "33eef15c1e8c4daf84a8c8d147b65c28",
            "84528dd8efb84a7f809180b6b30e12c6",
            "d4aa855022444364836b13acdc4248c2",
            "ce0de9ef44a8439f8d543222a5b6425a",
            "147fbae9481b4875946b3c13dc298d5b",
            "7f3e944d98444f3b82e54a82f0808b79",
            "57e2607fa84548c393164ae5583c5626",
            "3efcfb2d264b489a9749e5cf1d3f4049",
            "76dc8ad30bc040079bb488afc344f562",
            "c9a02c02bc014a6293bf781d6d5525cd",
            "3a7a1d92f538441382ca76a819e08b3b",
            "9247a6d927f34fbea8cc2b86326aecd2",
            "be94db618e124c55a2fe79ec7195fc15",
            "ebfe0f11db594c71846f83e19f95dbb1",
            "d51e73541c3e424fbe370f14dfa85d5c",
            "58a808e2bd7346878f7a3e569c552ca8",
            "9b52d835fab7405aba0c9433b89fb750",
            "00c72a746e134b688c6879a2b0a79bb6",
            "368871fea7454dc3b1d3a3991955209f",
            "b4cea9caf5c14af2b09cea3aa66b2727",
            "48019fe9f73b49b3a8e7d639eecf0844",
            "14830c6ee9a6466abd78b24e08d2ebba",
            "329dfa7a50ba4fbe856e423a65b33c9c",
            "bd72cda418794effafc8d96f4c49a6b2",
            "534df5a697084f47815ace120e77cfa6"
          ]
        },
        "outputId": "b87d73eb-f2c1-4102-d028-6041eb780220"
      },
      "id": "Hkxy6uPSKLkH",
      "execution_count": null,
      "outputs": [
        {
          "output_type": "display_data",
          "data": {
            "text/plain": [
              "Downloading:   0%|          | 0.00/226k [00:00<?, ?B/s]"
            ],
            "application/vnd.jupyter.widget-view+json": {
              "version_major": 2,
              "version_minor": 0,
              "model_id": "e332db1b713c4962af68c6b663b18dbf"
            }
          },
          "metadata": {}
        },
        {
          "output_type": "display_data",
          "data": {
            "text/plain": [
              "Downloading:   0%|          | 0.00/28.0 [00:00<?, ?B/s]"
            ],
            "application/vnd.jupyter.widget-view+json": {
              "version_major": 2,
              "version_minor": 0,
              "model_id": "ce0de9ef44a8439f8d543222a5b6425a"
            }
          },
          "metadata": {}
        },
        {
          "output_type": "display_data",
          "data": {
            "text/plain": [
              "Downloading:   0%|          | 0.00/570 [00:00<?, ?B/s]"
            ],
            "application/vnd.jupyter.widget-view+json": {
              "version_major": 2,
              "version_minor": 0,
              "model_id": "d51e73541c3e424fbe370f14dfa85d5c"
            }
          },
          "metadata": {}
        }
      ]
    },
    {
      "cell_type": "code",
      "execution_count": null,
      "metadata": {
        "id": "SsboQahMJ0g2"
      },
      "outputs": [],
      "source": [
        "from keras.preprocessing.sequence import pad_sequences\n",
        "\n",
        "def preprocessing_tweets_for_tunizibert(sentences,tokenizer,max_length=128):\n",
        "  sentences = [\"[CLS] \" + text + \" [SEP]\" for text in sentences]\n",
        "  tokenized_texts = [tokenizer.tokenize(sentence) for sentence in sentences]\n",
        "  input_ids = [tokenizer.convert_tokens_to_ids(x) for x in tokenized_texts]\n",
        "  input_ids = pad_sequences(input_ids, maxlen=max_length, dtype=\"long\", truncating=\"post\", padding=\"post\")\n",
        "  attention_masks = []\n",
        "  for seq in input_ids:\n",
        "    seq_mask = [int(i>0) for i in seq]\n",
        "    attention_masks.append(seq_mask)\n",
        "    \n",
        "  input_ids = torch.tensor(input_ids)\n",
        "  attention_masks = torch.tensor(attention_masks)\n",
        "\n",
        "  return input_ids,attention_masks"
      ],
      "id": "SsboQahMJ0g2"
    },
    {
      "cell_type": "code",
      "source": [
        "labels = aux.label.values\n",
        "sentences=aux.text.values"
      ],
      "metadata": {
        "id": "hIBP0PRnM-ZR"
      },
      "id": "hIBP0PRnM-ZR",
      "execution_count": null,
      "outputs": []
    },
    {
      "cell_type": "code",
      "source": [
        "def replace(labels):\n",
        "  for i in range(len(labels)):\n",
        "    if labels[i]==-1:\n",
        "      labels[i]=labels[i]+1\n",
        "  return labels"
      ],
      "metadata": {
        "id": "MXtnXcWuM4P5"
      },
      "id": "MXtnXcWuM4P5",
      "execution_count": null,
      "outputs": []
    },
    {
      "cell_type": "code",
      "source": [
        "sentences"
      ],
      "metadata": {
        "id": "ff3Hucp0Pasc",
        "colab": {
          "base_uri": "https://localhost:8080/"
        },
        "outputId": "0587344f-ffad-4100-ce6f-b4d8941c1569"
      },
      "id": "ff3Hucp0Pasc",
      "execution_count": null,
      "outputs": [
        {
          "output_type": "execute_result",
          "data": {
            "text/plain": [
              "array(['asba lek seim riahi asba',\n",
              "       'chaaeb feykelkoum menghir tahayoul kresi',\n",
              "       'bereau degage nathef slim walahi yahchiw fih jmaaa lemaamel alihom walah kit jib mesi lanaamlou chay hamlet nathafa fil bureaux jamaiya aarika mel aam kdh bdet dakhla hit choufelna hal mochkla belehi tekhnakna mel fada tous les équipe mergine fina ken jit kifek walah mayekhlsouch wiaadiw aam jaych bech yetrabaw elkoura sekik enti enketh jamaiya slim wnaaref tnajim taamelha',\n",
              "       ..., 'winha nakhtabha', 'fachel enta houwa',\n",
              "       'nchla lyouma nesmaou akhber bahiya ala jemaiya'], dtype=object)"
            ]
          },
          "metadata": {},
          "execution_count": 35
        }
      ]
    },
    {
      "cell_type": "code",
      "source": [
        "labels=replace(labels)"
      ],
      "metadata": {
        "id": "H-XW3c7zNbs2"
      },
      "id": "H-XW3c7zNbs2",
      "execution_count": null,
      "outputs": []
    },
    {
      "cell_type": "code",
      "source": [
        "input_ids,attention_masks= preprocessing_tweets_for_tunizibert(sentences,tokenizer,max_length=128)"
      ],
      "metadata": {
        "id": "-IKtSax_LYlw"
      },
      "id": "-IKtSax_LYlw",
      "execution_count": null,
      "outputs": []
    },
    {
      "cell_type": "code",
      "source": [
        "print(aux['text'][3])\n",
        "print(input_ids[3])\n",
        "print(attention_masks[3])"
      ],
      "metadata": {
        "id": "aI3aURwvLuut",
        "colab": {
          "base_uri": "https://localhost:8080/"
        },
        "outputId": "0dd40418-5807-4d14-d77d-3e4ea4e6f652"
      },
      "id": "aI3aURwvLuut",
      "execution_count": null,
      "outputs": [
        {
          "output_type": "stream",
          "name": "stdout",
          "text": [
            "slouma\n",
            "tensor([  101, 22889, 24778,  2050,   102,     0,     0,     0,     0,     0,\n",
            "            0,     0,     0,     0,     0,     0,     0,     0,     0,     0,\n",
            "            0,     0,     0,     0,     0,     0,     0,     0,     0,     0,\n",
            "            0,     0,     0,     0,     0,     0,     0,     0,     0,     0,\n",
            "            0,     0,     0,     0,     0,     0,     0,     0,     0,     0,\n",
            "            0,     0,     0,     0,     0,     0,     0,     0,     0,     0,\n",
            "            0,     0,     0,     0,     0,     0,     0,     0,     0,     0,\n",
            "            0,     0,     0,     0,     0,     0,     0,     0,     0,     0,\n",
            "            0,     0,     0,     0,     0,     0,     0,     0,     0,     0,\n",
            "            0,     0,     0,     0,     0,     0,     0,     0,     0,     0,\n",
            "            0,     0,     0,     0,     0,     0,     0,     0,     0,     0,\n",
            "            0,     0,     0,     0,     0,     0,     0,     0,     0,     0,\n",
            "            0,     0,     0,     0,     0,     0,     0,     0])\n",
            "tensor([1, 1, 1, 1, 1, 0, 0, 0, 0, 0, 0, 0, 0, 0, 0, 0, 0, 0, 0, 0, 0, 0, 0, 0,\n",
            "        0, 0, 0, 0, 0, 0, 0, 0, 0, 0, 0, 0, 0, 0, 0, 0, 0, 0, 0, 0, 0, 0, 0, 0,\n",
            "        0, 0, 0, 0, 0, 0, 0, 0, 0, 0, 0, 0, 0, 0, 0, 0, 0, 0, 0, 0, 0, 0, 0, 0,\n",
            "        0, 0, 0, 0, 0, 0, 0, 0, 0, 0, 0, 0, 0, 0, 0, 0, 0, 0, 0, 0, 0, 0, 0, 0,\n",
            "        0, 0, 0, 0, 0, 0, 0, 0, 0, 0, 0, 0, 0, 0, 0, 0, 0, 0, 0, 0, 0, 0, 0, 0,\n",
            "        0, 0, 0, 0, 0, 0, 0, 0])\n"
          ]
        }
      ]
    },
    {
      "cell_type": "code",
      "source": [
        "from sklearn.model_selection import train_test_split\n",
        "\n",
        "train_inputs, validation_inputs, train_labels, validation_labels = train_test_split(input_ids, labels, \n",
        "                                                            random_state=2022, test_size=0.1)\n",
        "train_masks, validation_masks, _, _ = train_test_split(attention_masks, input_ids,\n",
        "                                             random_state=2022, test_size=0.1)"
      ],
      "metadata": {
        "id": "SrQtdwKbKzkS"
      },
      "id": "SrQtdwKbKzkS",
      "execution_count": null,
      "outputs": []
    },
    {
      "cell_type": "code",
      "execution_count": null,
      "metadata": {
        "id": "w2LE88QZJ0g3"
      },
      "outputs": [],
      "source": [
        "train_inputs = torch.tensor(train_inputs)\n",
        "validation_inputs = torch.tensor(validation_inputs)\n",
        "\n",
        "train_labels = torch.tensor(train_labels)\n",
        "validation_labels = torch.tensor(validation_labels)\n",
        "\n",
        "train_masks = torch.tensor(train_masks)\n",
        "validation_masks = torch.tensor(validation_masks)"
      ],
      "id": "w2LE88QZJ0g3"
    },
    {
      "cell_type": "code",
      "source": [
        "from torch.utils.data import TensorDataset, DataLoader, RandomSampler, SequentialSampler\n",
        "batch_size = 32\n",
        "\n",
        "train_data = TensorDataset(train_inputs, train_masks, train_labels)\n",
        "train_sampler = RandomSampler(train_data)\n",
        "train_dataloader = DataLoader(train_data, sampler=train_sampler, batch_size=batch_size)\n",
        "\n",
        "validation_data = TensorDataset(validation_inputs, validation_masks, validation_labels)\n",
        "validation_sampler = SequentialSampler(validation_data)\n",
        "validation_dataloader = DataLoader(validation_data, sampler=validation_sampler, batch_size=batch_size)"
      ],
      "metadata": {
        "id": "X_a1LAtqK8ji"
      },
      "id": "X_a1LAtqK8ji",
      "execution_count": null,
      "outputs": []
    },
    {
      "cell_type": "markdown",
      "source": [
        "**Bert Model for ClassificationTasks**"
      ],
      "metadata": {
        "id": "UfGYPrlxRSy4"
      },
      "id": "UfGYPrlxRSy4"
    },
    {
      "cell_type": "code",
      "source": [
        "%%time\n",
        "import torch.nn as nn\n",
        "from transformers import BertModel\n",
        "class TUNIZIBertClassfier(nn.Module):# Create the TUNIZIBERTClassfier class\n",
        "    def __init__(self, freeze_bert=False):\n",
        "        super(TUNIZIBertClassfier, self).__init__()\n",
        "        \n",
        "        hidden_size_of_bert,hidden_size_of_Classfier,output =768,50,2\n",
        "        \n",
        "        self.bert = BertModel.from_pretrained('bert-base-uncased') \n",
        "\n",
        "        self.classifier = nn.Sequential( #classifaction layer\n",
        "            nn.Linear(hidden_size_of_bert, hidden_size_of_Classfier),\n",
        "            nn.ReLU(),\n",
        "            nn.Dropout(0.5),\n",
        "            nn.Linear(hidden_size_of_Classfier,output)\n",
        "        )\n",
        "        if freeze_bert: # Freeze the BERT model\n",
        "            for param in self.bert.parameters():\n",
        "                param.requires_grad = False         \n",
        "\n",
        "        \n",
        "    def forward(self, input_ids, attention_mask):\n",
        "        # Feed input to BERT\n",
        "        outputs = self.bert(input_ids=input_ids,attention_mask=attention_mask)\n",
        "        #for classification extract the last hidden layer of the [CLS] token\n",
        "        last_hidden_state_cls = outputs[0][:, 0, :]\n",
        "        # Feed input to classifier to compute logits\n",
        "        logits = self.classifier(last_hidden_state_cls)\n",
        "\n",
        "        return logits"
      ],
      "metadata": {
        "id": "8c3_afEKK8g6",
        "colab": {
          "base_uri": "https://localhost:8080/"
        },
        "outputId": "dd7c95a8-2ed7-43b9-c417-a9b8494f2d20"
      },
      "id": "8c3_afEKK8g6",
      "execution_count": null,
      "outputs": [
        {
          "output_type": "stream",
          "name": "stdout",
          "text": [
            "CPU times: user 0 ns, sys: 46 µs, total: 46 µs\n",
            "Wall time: 51 µs\n"
          ]
        }
      ]
    },
    {
      "cell_type": "markdown",
      "source": [
        "**hyper-parameters** **,Initialize the tunizibert Classifier**\n"
      ],
      "metadata": {
        "id": "DM0BOhhBZo5e"
      },
      "id": "DM0BOhhBZo5e"
    },
    {
      "cell_type": "code",
      "source": [
        "from transformers import AdamW, get_linear_schedule_with_warmup\n",
        "\n",
        "def initialize_model(epochs=4):\n",
        "\n",
        "    tunizibert_classifier = TUNIZIBertClassfier(freeze_bert=False)\n",
        "\n",
        "    tunizibert_classifier.to(device) # Tell PyTorch to run the model on GPU\n",
        "\n",
        "    optimizer = AdamW(tunizibert_classifier.parameters(),\n",
        "                      lr=5e-5,\n",
        "                      eps=1e-8)\n",
        "\n",
        "    total_steps = len(train_dataloader) * epochs\n",
        "\n",
        "    scheduler = get_linear_schedule_with_warmup(optimizer,\n",
        "                                                num_warmup_steps=0, \n",
        "                                                num_training_steps=total_steps)\n",
        "    return tunizibert_classifier, optimizer, scheduler"
      ],
      "metadata": {
        "id": "3C4INpOAK8eh"
      },
      "id": "3C4INpOAK8eh",
      "execution_count": null,
      "outputs": []
    },
    {
      "cell_type": "markdown",
      "source": [
        "**Training**"
      ],
      "metadata": {
        "id": "TS67fVzkam47"
      },
      "id": "TS67fVzkam47"
    },
    {
      "cell_type": "code",
      "source": [
        "import random\n",
        "import time\n",
        "\n",
        "loss_fn = nn.CrossEntropyLoss() # Specify loss function\n",
        "\n",
        "def set_seed(seed_value=42):\n",
        "    random.seed(seed_value)\n",
        "    np.random.seed(seed_value)\n",
        "    torch.manual_seed(seed_value)\n",
        "    torch.cuda.manual_seed_all(seed_value)\n",
        "\n",
        "def train(model, train_dataloader, val_dataloader=None, epochs=4, evaluation=False):\n",
        "   \n",
        "    print(\"Start training...\\n\")\n",
        "    for epoch_i in range(epochs):\n",
        "        print('            ======== Epoch {:} / {:} ========'.format(epoch_i + 1, epochs))\n",
        "        print('\\n')\n",
        "\n",
        "        print(f\"{'Batch':^7} | {'Train Loss':^12} | {'Val Loss':^10} | {'Val Acc':^9} | {'Elapsed':^9}\")\n",
        "        print(\"-\"*70)\n",
        "\n",
        "        t0_epoch, t0_batch = time.time(), time.time() # Measure the elapsed time of each epoch\n",
        "\n",
        "        total_loss, batch_loss, batch_counts = 0, 0, 0 # Reset tracking variables at the beginning of each epoch\n",
        "\n",
        "        model.train()\n",
        "\n",
        "        # For each batch of training data...\n",
        "        for step, batch in enumerate(train_dataloader):\n",
        "            batch_counts +=1\n",
        "\n",
        "            b_input_ids, b_attn_mask, b_labels = tuple(t.to(device) for t in batch)\n",
        "\n",
        "            model.zero_grad()\n",
        "\n",
        "            logits = model(b_input_ids, b_attn_mask)\n",
        "\n",
        "            loss = loss_fn(logits, b_labels)\n",
        "            batch_loss += loss.item()\n",
        "            total_loss += loss.item()\n",
        "\n",
        "            loss.backward()\n",
        "\n",
        "            torch.nn.utils.clip_grad_norm_(model.parameters(), 1.0)\n",
        "\n",
        "            # Update parameters and the learning rate\n",
        "            optimizer.step()\n",
        "            scheduler.step()\n",
        "\n",
        "            # Print the loss values and time elapsed for every 20 batches\n",
        "            if (step % 20 == 0 and step != 0) or (step == len(train_dataloader) - 1):\n",
        "                # Calculate time elapsed for 20 batches\n",
        "                time_elapsed = time.time() - t0_batch\n",
        "\n",
        "                print(f\"{step:^7} | {batch_loss / batch_counts:^12.6f} | {'-':^10} | {'-':^9} | {time_elapsed:^9.2f}\")\n",
        "\n",
        "                batch_loss, batch_counts = 0, 0\n",
        "                t0_batch = time.time()\n",
        "\n",
        "        avg_train_loss = total_loss / len(train_dataloader)\n",
        "\n",
        "        print(\"-\"*70)\n",
        "       \n",
        "        if evaluation == True:\n",
        "            \n",
        "            val_loss, val_accuracy = evaluate(model, val_dataloader)\n",
        "\n",
        "            time_elapsed = time.time() - t0_epoch\n",
        "            \n",
        "            print(f\"{'-':^7} | {avg_train_loss:^12.6f} | {val_loss:^10.6f} | {val_accuracy:^9.2f} | {time_elapsed:^9.2f}\")\n",
        "            print(\"-\"*70)\n",
        "            print(\"\\n\")\n",
        "            print(\" val_accuracy: {0:.2f}\".format(val_accuracy))\n",
        "\n",
        "        print(\"\\n\")\n",
        "    \n",
        "    print(\"Training complete!\")\n",
        "\n",
        "\n",
        "def evaluate(model, val_dataloader):\n",
        "    # Put the model into the evaluation mode. The dropout layers are disabled during\n",
        "    model.eval()\n",
        "\n",
        "    val_accuracy = []\n",
        "    val_loss = []\n",
        "\n",
        "    for batch in val_dataloader:\n",
        "        b_input_ids, b_attn_mask, b_labels = tuple(t.to(device) for t in batch)\n",
        "\n",
        "        # Compute logits\n",
        "        with torch.no_grad():\n",
        "            logits = model(b_input_ids, b_attn_mask)\n",
        "\n",
        "        # Compute loss\n",
        "        loss = loss_fn(logits, b_labels)\n",
        "        val_loss.append(loss.item())\n",
        "\n",
        "        # Get the predictions\n",
        "        preds = torch.argmax(logits, dim=1).flatten()\n",
        "\n",
        "        # Calculate the accuracy rate\n",
        "        accuracy = (preds == b_labels).cpu().numpy().mean() * 100\n",
        "        val_accuracy.append(accuracy)\n",
        "\n",
        "    # Compute the average accuracy and loss over the validation set.\n",
        "    val_loss = np.mean(val_loss)\n",
        "    val_accuracy = np.mean(val_accuracy)\n",
        "\n",
        "    return val_loss, val_accuracy"
      ],
      "metadata": {
        "id": "5Iojb4i_K8cP"
      },
      "id": "5Iojb4i_K8cP",
      "execution_count": null,
      "outputs": []
    },
    {
      "cell_type": "code",
      "source": [
        "set_seed(42)    # Set seed for reproducibility\n",
        "tunizibert_classifier, optimizer, scheduler = initialize_model(epochs=3)\n",
        "train(tunizibert_classifier, train_dataloader, validation_dataloader, epochs=3, evaluation=True)"
      ],
      "metadata": {
        "id": "rO-6GDd-K8Z1",
        "colab": {
          "base_uri": "https://localhost:8080/",
          "height": 1000,
          "referenced_widgets": [
            "d841e0d660594da1bc29695a8a4cfdba",
            "5b5720f8b2c345f7b504cf7e0cf43aee",
            "3695873bf28b4101bc07b9983bde1d7f",
            "e4c74bc6f8bf40059168b8bd3d2aa386",
            "31ac540728e84f06bc1caed3b4b8c8ee",
            "cb1c8a3e2fd04502ac27de58ac92514f",
            "b7e662505ebc4dca8f98fdb4110ff25d",
            "8b7628f343eb4c2fb749aa75031537de",
            "7337fb48f5464f15b30474af188b77f1",
            "cfb35db12e7a4365b84407a88e2c3694",
            "53c7544bbe554586a7501bc635a6247b"
          ]
        },
        "outputId": "8bd57dbf-2bb2-4480-e88c-328953805a58"
      },
      "id": "rO-6GDd-K8Z1",
      "execution_count": null,
      "outputs": [
        {
          "output_type": "display_data",
          "data": {
            "text/plain": [
              "Downloading:   0%|          | 0.00/420M [00:00<?, ?B/s]"
            ],
            "application/vnd.jupyter.widget-view+json": {
              "version_major": 2,
              "version_minor": 0,
              "model_id": "d841e0d660594da1bc29695a8a4cfdba"
            }
          },
          "metadata": {}
        },
        {
          "output_type": "stream",
          "name": "stderr",
          "text": [
            "Some weights of the model checkpoint at bert-base-uncased were not used when initializing BertModel: ['cls.seq_relationship.bias', 'cls.predictions.decoder.weight', 'cls.seq_relationship.weight', 'cls.predictions.transform.dense.weight', 'cls.predictions.transform.LayerNorm.bias', 'cls.predictions.transform.LayerNorm.weight', 'cls.predictions.transform.dense.bias', 'cls.predictions.bias']\n",
            "- This IS expected if you are initializing BertModel from the checkpoint of a model trained on another task or with another architecture (e.g. initializing a BertForSequenceClassification model from a BertForPreTraining model).\n",
            "- This IS NOT expected if you are initializing BertModel from the checkpoint of a model that you expect to be exactly identical (initializing a BertForSequenceClassification model from a BertForSequenceClassification model).\n"
          ]
        },
        {
          "output_type": "stream",
          "name": "stdout",
          "text": [
            "Start training...\n",
            "\n",
            "            ======== Epoch 1 / 3 ========\n",
            "\n",
            "\n",
            " Batch  |  Train Loss  |  Val Loss  |  Val Acc  |  Elapsed \n",
            "----------------------------------------------------------------------\n",
            "  20    |   0.671049   |     -      |     -     |   26.04  \n",
            "  40    |   0.635362   |     -      |     -     |   25.26  \n",
            "  60    |   0.580474   |     -      |     -     |   25.01  \n",
            "  80    |   0.571606   |     -      |     -     |   24.98  \n",
            "  100   |   0.553410   |     -      |     -     |   24.87  \n",
            "  120   |   0.490821   |     -      |     -     |   24.93  \n",
            "  140   |   0.550754   |     -      |     -     |   24.85  \n",
            "  160   |   0.518727   |     -      |     -     |   24.89  \n",
            "  180   |   0.511618   |     -      |     -     |   24.89  \n",
            "  200   |   0.511467   |     -      |     -     |   24.86  \n",
            "  220   |   0.502466   |     -      |     -     |   24.91  \n",
            "  240   |   0.469136   |     -      |     -     |   24.84  \n",
            "  260   |   0.453035   |     -      |     -     |   24.88  \n",
            "  280   |   0.451114   |     -      |     -     |   24.86  \n",
            "  300   |   0.483400   |     -      |     -     |   24.81  \n",
            "  320   |   0.491095   |     -      |     -     |   24.84  \n",
            "  340   |   0.517101   |     -      |     -     |   24.85  \n",
            "  360   |   0.478923   |     -      |     -     |   24.88  \n",
            "  380   |   0.467493   |     -      |     -     |   24.84  \n",
            "  400   |   0.486526   |     -      |     -     |   24.87  \n",
            "  420   |   0.449635   |     -      |     -     |   24.89  \n",
            "  440   |   0.464526   |     -      |     -     |   24.83  \n",
            "  460   |   0.444995   |     -      |     -     |   24.90  \n",
            "  480   |   0.441848   |     -      |     -     |   24.88  \n",
            "  500   |   0.473166   |     -      |     -     |   24.89  \n",
            "  520   |   0.438859   |     -      |     -     |   24.88  \n",
            "  540   |   0.426885   |     -      |     -     |   24.85  \n",
            "  560   |   0.430958   |     -      |     -     |   24.89  \n",
            "  580   |   0.427956   |     -      |     -     |   24.88  \n",
            "  600   |   0.425880   |     -      |     -     |   24.83  \n",
            "  620   |   0.427356   |     -      |     -     |   24.92  \n",
            "  640   |   0.464144   |     -      |     -     |   24.86  \n",
            "  660   |   0.416263   |     -      |     -     |   24.92  \n",
            "  680   |   0.414400   |     -      |     -     |   24.84  \n",
            "  700   |   0.481558   |     -      |     -     |   24.83  \n",
            "  720   |   0.407107   |     -      |     -     |   24.90  \n",
            "  740   |   0.421207   |     -      |     -     |   24.86  \n",
            "  760   |   0.434614   |     -      |     -     |   24.92  \n",
            "  780   |   0.392195   |     -      |     -     |   24.88  \n",
            "  800   |   0.425057   |     -      |     -     |   24.86  \n",
            "  820   |   0.445266   |     -      |     -     |   24.94  \n",
            "  840   |   0.370165   |     -      |     -     |   24.85  \n",
            "  860   |   0.404004   |     -      |     -     |   24.92  \n",
            "  880   |   0.390064   |     -      |     -     |   24.83  \n",
            "  900   |   0.388303   |     -      |     -     |   24.83  \n",
            "  920   |   0.409981   |     -      |     -     |   24.85  \n",
            "  940   |   0.430639   |     -      |     -     |   24.88  \n",
            "  960   |   0.449163   |     -      |     -     |   24.84  \n",
            "  980   |   0.406998   |     -      |     -     |   24.86  \n",
            " 1000   |   0.409782   |     -      |     -     |   24.90  \n",
            " 1020   |   0.381226   |     -      |     -     |   24.83  \n",
            " 1040   |   0.383532   |     -      |     -     |   24.84  \n",
            " 1060   |   0.359380   |     -      |     -     |   24.88  \n",
            " 1080   |   0.456321   |     -      |     -     |   24.85  \n",
            " 1100   |   0.415039   |     -      |     -     |   24.85  \n",
            " 1120   |   0.452711   |     -      |     -     |   24.88  \n",
            " 1140   |   0.382234   |     -      |     -     |   24.87  \n",
            " 1160   |   0.408288   |     -      |     -     |   24.87  \n",
            " 1180   |   0.422230   |     -      |     -     |   24.92  \n",
            " 1200   |   0.423460   |     -      |     -     |   24.88  \n",
            " 1220   |   0.420670   |     -      |     -     |   24.89  \n",
            " 1240   |   0.443234   |     -      |     -     |   24.85  \n",
            " 1260   |   0.381639   |     -      |     -     |   24.90  \n",
            " 1280   |   0.392517   |     -      |     -     |   24.88  \n",
            " 1300   |   0.403037   |     -      |     -     |   24.86  \n",
            " 1320   |   0.366179   |     -      |     -     |   24.90  \n",
            " 1340   |   0.359273   |     -      |     -     |   24.84  \n",
            " 1360   |   0.436443   |     -      |     -     |   24.91  \n",
            " 1380   |   0.428400   |     -      |     -     |   24.84  \n",
            " 1400   |   0.360823   |     -      |     -     |   24.82  \n",
            " 1420   |   0.460234   |     -      |     -     |   24.89  \n",
            " 1440   |   0.369039   |     -      |     -     |   24.86  \n",
            " 1460   |   0.408928   |     -      |     -     |   24.84  \n",
            " 1480   |   0.369911   |     -      |     -     |   24.89  \n",
            " 1500   |   0.409655   |     -      |     -     |   24.86  \n",
            " 1520   |   0.366406   |     -      |     -     |   24.84  \n",
            " 1540   |   0.396774   |     -      |     -     |   24.89  \n",
            " 1560   |   0.361213   |     -      |     -     |   24.85  \n",
            " 1580   |   0.413076   |     -      |     -     |   24.81  \n",
            " 1600   |   0.401510   |     -      |     -     |   24.88  \n",
            " 1620   |   0.399518   |     -      |     -     |   24.88  \n",
            " 1640   |   0.393333   |     -      |     -     |   24.83  \n",
            " 1660   |   0.408030   |     -      |     -     |   24.88  \n",
            " 1680   |   0.378074   |     -      |     -     |   24.88  \n",
            " 1700   |   0.346345   |     -      |     -     |   24.84  \n",
            " 1720   |   0.409000   |     -      |     -     |   24.85  \n",
            " 1740   |   0.387691   |     -      |     -     |   24.88  \n",
            " 1760   |   0.415708   |     -      |     -     |   24.83  \n",
            " 1780   |   0.362416   |     -      |     -     |   24.93  \n",
            " 1800   |   0.390991   |     -      |     -     |   24.84  \n",
            " 1820   |   0.415314   |     -      |     -     |   24.87  \n",
            " 1840   |   0.381239   |     -      |     -     |   24.89  \n",
            " 1860   |   0.392616   |     -      |     -     |   24.85  \n",
            " 1880   |   0.353663   |     -      |     -     |   24.86  \n",
            " 1899   |   0.403762   |     -      |     -     |   22.94  \n",
            "----------------------------------------------------------------------\n",
            "   -    |   0.432558   |  0.381458  |   83.21   |  2457.28 \n",
            "----------------------------------------------------------------------\n",
            "\n",
            "\n",
            " val_accuracy: 83.21\n",
            "\n",
            "\n",
            "            ======== Epoch 2 / 3 ========\n",
            "\n",
            "\n",
            " Batch  |  Train Loss  |  Val Loss  |  Val Acc  |  Elapsed \n",
            "----------------------------------------------------------------------\n",
            "  20    |   0.312659   |     -      |     -     |   26.12  \n",
            "  40    |   0.281706   |     -      |     -     |   24.86  \n",
            "  60    |   0.302510   |     -      |     -     |   24.85  \n",
            "  80    |   0.311940   |     -      |     -     |   24.86  \n",
            "  100   |   0.312611   |     -      |     -     |   24.82  \n",
            "  120   |   0.293921   |     -      |     -     |   24.82  \n",
            "  140   |   0.319346   |     -      |     -     |   24.84  \n",
            "  160   |   0.341055   |     -      |     -     |   24.89  \n",
            "  180   |   0.303045   |     -      |     -     |   24.87  \n",
            "  200   |   0.303045   |     -      |     -     |   24.85  \n",
            "  220   |   0.331801   |     -      |     -     |   24.91  \n",
            "  240   |   0.314491   |     -      |     -     |   24.86  \n",
            "  260   |   0.316148   |     -      |     -     |   24.89  \n",
            "  280   |   0.319803   |     -      |     -     |   24.89  \n",
            "  300   |   0.272613   |     -      |     -     |   24.86  \n",
            "  320   |   0.320215   |     -      |     -     |   24.93  \n",
            "  340   |   0.287102   |     -      |     -     |   24.84  \n",
            "  360   |   0.320667   |     -      |     -     |   24.93  \n",
            "  380   |   0.298873   |     -      |     -     |   24.81  \n",
            "  400   |   0.283202   |     -      |     -     |   24.81  \n",
            "  420   |   0.300571   |     -      |     -     |   24.83  \n",
            "  440   |   0.289440   |     -      |     -     |   24.92  \n",
            "  460   |   0.261696   |     -      |     -     |   24.84  \n",
            "  480   |   0.287113   |     -      |     -     |   24.83  \n",
            "  500   |   0.333401   |     -      |     -     |   24.86  \n",
            "  520   |   0.316004   |     -      |     -     |   24.85  \n",
            "  540   |   0.307996   |     -      |     -     |   24.84  \n",
            "  560   |   0.312078   |     -      |     -     |   24.91  \n",
            "  580   |   0.294563   |     -      |     -     |   24.89  \n",
            "  600   |   0.300902   |     -      |     -     |   24.86  \n",
            "  620   |   0.350451   |     -      |     -     |   24.90  \n",
            "  640   |   0.312341   |     -      |     -     |   24.83  \n",
            "  660   |   0.290285   |     -      |     -     |   24.83  \n",
            "  680   |   0.303590   |     -      |     -     |   24.88  \n",
            "  700   |   0.301184   |     -      |     -     |   24.84  \n",
            "  720   |   0.330107   |     -      |     -     |   24.83  \n",
            "  740   |   0.291409   |     -      |     -     |   24.84  \n",
            "  760   |   0.314447   |     -      |     -     |   24.91  \n",
            "  780   |   0.275211   |     -      |     -     |   24.85  \n",
            "  800   |   0.323637   |     -      |     -     |   24.91  \n",
            "  820   |   0.326701   |     -      |     -     |   24.86  \n",
            "  840   |   0.290837   |     -      |     -     |   24.81  \n",
            "  860   |   0.307109   |     -      |     -     |   24.91  \n",
            "  880   |   0.305037   |     -      |     -     |   24.86  \n",
            "  900   |   0.294801   |     -      |     -     |   24.88  \n",
            "  920   |   0.354770   |     -      |     -     |   24.91  \n",
            "  940   |   0.268073   |     -      |     -     |   24.85  \n",
            "  960   |   0.324334   |     -      |     -     |   24.90  \n",
            "  980   |   0.319930   |     -      |     -     |   24.87  \n",
            " 1000   |   0.291052   |     -      |     -     |   24.90  \n",
            " 1020   |   0.282646   |     -      |     -     |   24.88  \n",
            " 1040   |   0.309022   |     -      |     -     |   24.84  \n",
            " 1060   |   0.318528   |     -      |     -     |   24.87  \n",
            " 1080   |   0.277249   |     -      |     -     |   24.88  \n",
            " 1100   |   0.317702   |     -      |     -     |   24.83  \n",
            " 1120   |   0.299482   |     -      |     -     |   24.88  \n",
            " 1140   |   0.252052   |     -      |     -     |   24.87  \n",
            " 1160   |   0.309355   |     -      |     -     |   24.82  \n",
            " 1180   |   0.287995   |     -      |     -     |   24.92  \n",
            " 1200   |   0.287270   |     -      |     -     |   24.85  \n",
            " 1220   |   0.278392   |     -      |     -     |   24.86  \n",
            " 1240   |   0.316708   |     -      |     -     |   24.90  \n",
            " 1260   |   0.345650   |     -      |     -     |   24.84  \n",
            " 1280   |   0.297678   |     -      |     -     |   24.87  \n",
            " 1300   |   0.299502   |     -      |     -     |   24.85  \n",
            " 1320   |   0.276405   |     -      |     -     |   24.84  \n",
            " 1340   |   0.256838   |     -      |     -     |   24.82  \n",
            " 1360   |   0.276337   |     -      |     -     |   24.95  \n",
            " 1380   |   0.312984   |     -      |     -     |   24.84  \n",
            " 1400   |   0.294469   |     -      |     -     |   24.85  \n",
            " 1420   |   0.294229   |     -      |     -     |   24.91  \n",
            " 1440   |   0.261361   |     -      |     -     |   24.85  \n",
            " 1460   |   0.328255   |     -      |     -     |   24.88  \n",
            " 1480   |   0.278239   |     -      |     -     |   24.87  \n",
            " 1500   |   0.345275   |     -      |     -     |   24.88  \n",
            " 1520   |   0.332960   |     -      |     -     |   24.91  \n",
            " 1540   |   0.302392   |     -      |     -     |   24.94  \n",
            " 1560   |   0.271502   |     -      |     -     |   24.88  \n",
            " 1580   |   0.325034   |     -      |     -     |   24.87  \n",
            " 1600   |   0.284216   |     -      |     -     |   24.90  \n",
            " 1620   |   0.261376   |     -      |     -     |   24.83  \n",
            " 1640   |   0.264228   |     -      |     -     |   24.94  \n",
            " 1660   |   0.268511   |     -      |     -     |   24.85  \n",
            " 1680   |   0.263907   |     -      |     -     |   24.90  \n",
            " 1700   |   0.331915   |     -      |     -     |   24.88  \n",
            " 1720   |   0.274540   |     -      |     -     |   24.86  \n",
            " 1740   |   0.256155   |     -      |     -     |   24.89  \n",
            " 1760   |   0.254595   |     -      |     -     |   24.86  \n",
            " 1780   |   0.277245   |     -      |     -     |   24.88  \n",
            " 1800   |   0.308230   |     -      |     -     |   24.88  \n",
            " 1820   |   0.244957   |     -      |     -     |   24.77  \n",
            " 1840   |   0.308393   |     -      |     -     |   24.80  \n",
            " 1860   |   0.281441   |     -      |     -     |   24.81  \n",
            " 1880   |   0.240626   |     -      |     -     |   24.78  \n",
            " 1899   |   0.310510   |     -      |     -     |   22.90  \n",
            "----------------------------------------------------------------------\n",
            "   -    |   0.298866   |  0.393068  |   83.53   |  2456.55 \n",
            "----------------------------------------------------------------------\n",
            "\n",
            "\n",
            " val_accuracy: 83.53\n",
            "\n",
            "\n",
            "            ======== Epoch 3 / 3 ========\n",
            "\n",
            "\n",
            " Batch  |  Train Loss  |  Val Loss  |  Val Acc  |  Elapsed \n",
            "----------------------------------------------------------------------\n",
            "  20    |   0.200326   |     -      |     -     |   26.12  \n",
            "  40    |   0.196525   |     -      |     -     |   24.90  \n",
            "  60    |   0.209643   |     -      |     -     |   24.85  \n",
            "  80    |   0.213059   |     -      |     -     |   24.86  \n",
            "  100   |   0.189894   |     -      |     -     |   24.82  \n",
            "  120   |   0.247952   |     -      |     -     |   24.83  \n",
            "  140   |   0.198372   |     -      |     -     |   24.87  \n",
            "  160   |   0.192266   |     -      |     -     |   24.88  \n",
            "  180   |   0.262362   |     -      |     -     |   24.87  \n",
            "  200   |   0.234883   |     -      |     -     |   24.87  \n",
            "  220   |   0.203707   |     -      |     -     |   24.86  \n",
            "  240   |   0.188431   |     -      |     -     |   24.83  \n",
            "  260   |   0.199782   |     -      |     -     |   24.84  \n",
            "  280   |   0.244297   |     -      |     -     |   24.88  \n",
            "  300   |   0.185157   |     -      |     -     |   24.84  \n",
            "  320   |   0.214567   |     -      |     -     |   24.86  \n",
            "  340   |   0.183452   |     -      |     -     |   24.87  \n",
            "  360   |   0.216132   |     -      |     -     |   24.83  \n",
            "  380   |   0.200406   |     -      |     -     |   24.84  \n",
            "  400   |   0.154181   |     -      |     -     |   24.84  \n",
            "  420   |   0.181911   |     -      |     -     |   24.90  \n",
            "  440   |   0.188630   |     -      |     -     |   24.82  \n",
            "  460   |   0.225101   |     -      |     -     |   24.93  \n",
            "  480   |   0.181578   |     -      |     -     |   24.85  \n",
            "  500   |   0.200277   |     -      |     -     |   24.83  \n",
            "  520   |   0.206414   |     -      |     -     |   24.89  \n",
            "  540   |   0.216912   |     -      |     -     |   24.85  \n",
            "  560   |   0.177389   |     -      |     -     |   24.86  \n",
            "  580   |   0.191638   |     -      |     -     |   24.92  \n",
            "  600   |   0.245418   |     -      |     -     |   24.85  \n",
            "  620   |   0.190814   |     -      |     -     |   24.83  \n",
            "  640   |   0.209486   |     -      |     -     |   24.86  \n",
            "  660   |   0.195736   |     -      |     -     |   24.86  \n",
            "  680   |   0.169368   |     -      |     -     |   24.83  \n",
            "  700   |   0.232195   |     -      |     -     |   24.87  \n",
            "  720   |   0.230512   |     -      |     -     |   24.86  \n",
            "  740   |   0.175208   |     -      |     -     |   24.81  \n",
            "  760   |   0.202003   |     -      |     -     |   24.80  \n",
            "  780   |   0.194714   |     -      |     -     |   24.84  \n",
            "  800   |   0.188750   |     -      |     -     |   24.88  \n",
            "  820   |   0.188258   |     -      |     -     |   24.84  \n",
            "  840   |   0.183029   |     -      |     -     |   24.82  \n",
            "  860   |   0.207856   |     -      |     -     |   24.83  \n",
            "  880   |   0.177998   |     -      |     -     |   24.88  \n",
            "  900   |   0.192622   |     -      |     -     |   24.84  \n",
            "  920   |   0.198751   |     -      |     -     |   24.83  \n",
            "  940   |   0.177535   |     -      |     -     |   24.86  \n",
            "  960   |   0.241449   |     -      |     -     |   24.85  \n",
            "  980   |   0.216166   |     -      |     -     |   24.80  \n",
            " 1000   |   0.194222   |     -      |     -     |   24.80  \n",
            " 1020   |   0.150103   |     -      |     -     |   24.80  \n",
            " 1040   |   0.166364   |     -      |     -     |   24.83  \n",
            " 1060   |   0.191437   |     -      |     -     |   24.85  \n",
            " 1080   |   0.208150   |     -      |     -     |   24.81  \n",
            " 1100   |   0.225042   |     -      |     -     |   24.81  \n",
            " 1120   |   0.177734   |     -      |     -     |   24.80  \n",
            " 1140   |   0.177909   |     -      |     -     |   24.82  \n",
            " 1160   |   0.211813   |     -      |     -     |   24.80  \n",
            " 1180   |   0.182386   |     -      |     -     |   24.83  \n",
            " 1200   |   0.194779   |     -      |     -     |   24.85  \n",
            " 1220   |   0.181391   |     -      |     -     |   24.82  \n",
            " 1240   |   0.167460   |     -      |     -     |   24.81  \n",
            " 1260   |   0.184009   |     -      |     -     |   24.80  \n",
            " 1280   |   0.184058   |     -      |     -     |   24.80  \n",
            " 1300   |   0.214376   |     -      |     -     |   24.79  \n",
            " 1320   |   0.171691   |     -      |     -     |   24.79  \n",
            " 1340   |   0.205735   |     -      |     -     |   24.84  \n",
            " 1360   |   0.236944   |     -      |     -     |   24.81  \n",
            " 1380   |   0.175343   |     -      |     -     |   24.81  \n",
            " 1400   |   0.199083   |     -      |     -     |   24.82  \n",
            " 1420   |   0.245595   |     -      |     -     |   24.81  \n",
            " 1440   |   0.174508   |     -      |     -     |   24.79  \n",
            " 1460   |   0.178337   |     -      |     -     |   24.84  \n",
            " 1480   |   0.182335   |     -      |     -     |   24.78  \n",
            " 1500   |   0.180795   |     -      |     -     |   24.84  \n",
            " 1520   |   0.229238   |     -      |     -     |   24.84  \n",
            " 1540   |   0.199369   |     -      |     -     |   24.80  \n",
            " 1560   |   0.168139   |     -      |     -     |   24.82  \n",
            " 1580   |   0.203669   |     -      |     -     |   24.84  \n",
            " 1600   |   0.161041   |     -      |     -     |   24.82  \n",
            " 1620   |   0.183962   |     -      |     -     |   24.85  \n",
            " 1640   |   0.170530   |     -      |     -     |   24.83  \n",
            " 1660   |   0.174761   |     -      |     -     |   24.81  \n",
            " 1680   |   0.223011   |     -      |     -     |   24.82  \n",
            " 1700   |   0.180961   |     -      |     -     |   24.79  \n",
            " 1720   |   0.194936   |     -      |     -     |   24.78  \n",
            " 1740   |   0.219798   |     -      |     -     |   24.87  \n",
            " 1760   |   0.181527   |     -      |     -     |   24.82  \n",
            " 1780   |   0.153155   |     -      |     -     |   24.81  \n",
            " 1800   |   0.169222   |     -      |     -     |   24.81  \n",
            " 1820   |   0.172060   |     -      |     -     |   24.81  \n",
            " 1840   |   0.200132   |     -      |     -     |   24.85  \n",
            " 1860   |   0.168665   |     -      |     -     |   24.80  \n",
            " 1880   |   0.177156   |     -      |     -     |   24.80  \n",
            " 1899   |   0.201275   |     -      |     -     |   22.85  \n",
            "----------------------------------------------------------------------\n",
            "   -    |   0.195971   |  0.453192  |   84.09   |  2453.50 \n",
            "----------------------------------------------------------------------\n",
            "\n",
            "\n",
            " val_accuracy: 84.09\n",
            "\n",
            "\n",
            "Training complete!\n"
          ]
        }
      ]
    },
    {
      "cell_type": "markdown",
      "source": [
        "Prediction"
      ],
      "metadata": {
        "id": "asNnVsKfrisa"
      },
      "id": "asNnVsKfrisa"
    },
    {
      "cell_type": "code",
      "source": [
        "import torch.nn.functional as F\n",
        "\n",
        "def tunizibert_predict(model, test_dataloader):\n",
        "    \"\"\"Perform a forward pass on the trained BERT model to predict probabilities\n",
        "    on the test set.\n",
        "    \"\"\"\n",
        "    # Put the model into the evaluation mode. The dropout layers are disabled during\n",
        "    # the test time.\n",
        "    model.eval()\n",
        "\n",
        "    all_logits = []\n",
        "\n",
        "    # For each batch in our test set...\n",
        "    for batch in test_dataloader:\n",
        "        # Load batch to GPU\n",
        "        b_input_ids, b_attn_mask = tuple(t.to(device) for t in batch)[:2]\n",
        "\n",
        "        # Compute logits\n",
        "        with torch.no_grad():\n",
        "            logits = model(b_input_ids, b_attn_mask)\n",
        "        all_logits.append(logits)\n",
        "    \n",
        "    # Concatenate logits from each batch\n",
        "    all_logits = torch.cat(all_logits, dim=0)\n",
        "\n",
        "    # Apply softmax to calculate probabilities\n",
        "    probs = F.softmax(all_logits, dim=1).cpu().numpy()\n",
        "\n",
        "    return probs"
      ],
      "metadata": {
        "id": "JhQxNHY2K8Xh"
      },
      "id": "JhQxNHY2K8Xh",
      "execution_count": null,
      "outputs": []
    },
    {
      "cell_type": "code",
      "source": [
        "sentences_t=test.text.values\n",
        "test_inputs, test_masks = preprocessing_tweets_for_tunizibert(sentences_t,tokenizer)"
      ],
      "metadata": {
        "id": "zdx67eLEK8U_"
      },
      "id": "zdx67eLEK8U_",
      "execution_count": null,
      "outputs": []
    },
    {
      "cell_type": "code",
      "source": [
        "test_data = TensorDataset(test_inputs, test_masks)\n",
        "test_sampler = SequentialSampler(test_data)\n",
        "test_dataloader = DataLoader(test_data, sampler=test_sampler, batch_size=batch_size)"
      ],
      "metadata": {
        "id": "NAqX1cMZK8Sg"
      },
      "id": "NAqX1cMZK8Sg",
      "execution_count": null,
      "outputs": []
    },
    {
      "cell_type": "code",
      "source": [
        "probs = tunizibert_predict(tunizibert_classifier, test_dataloader)\n"
      ],
      "metadata": {
        "id": "7qBdAFHDK8P7"
      },
      "id": "7qBdAFHDK8P7",
      "execution_count": null,
      "outputs": []
    },
    {
      "cell_type": "code",
      "source": [
        "probs"
      ],
      "metadata": {
        "id": "iyIt0JbebkC5",
        "colab": {
          "base_uri": "https://localhost:8080/"
        },
        "outputId": "80b49dba-0ea7-4d84-f5e6-74ee99d29daa"
      },
      "id": "iyIt0JbebkC5",
      "execution_count": null,
      "outputs": [
        {
          "output_type": "execute_result",
          "data": {
            "text/plain": [
              "array([[0.8088243 , 0.19117571],\n",
              "       [0.99559265, 0.00440729],\n",
              "       [0.00470047, 0.99529946],\n",
              "       ...,\n",
              "       [0.08467861, 0.91532147],\n",
              "       [0.995059  , 0.00494105],\n",
              "       [0.00259315, 0.9974069 ]], dtype=float32)"
            ]
          },
          "metadata": {},
          "execution_count": 50
        }
      ]
    },
    {
      "cell_type": "code",
      "source": [
        "test_data = test['text']\n",
        "test_id = test['ID']\n",
        "\n",
        "data_test = pd.DataFrame(data = {'id' : test_id ,'text': test['text'], 'negative' : probs[:,0] ,'postive' : probs[:,1]  })"
      ],
      "metadata": {
        "id": "DhZv8gytjSdo"
      },
      "id": "DhZv8gytjSdo",
      "execution_count": null,
      "outputs": []
    },
    {
      "cell_type": "code",
      "source": [
        "data_test"
      ],
      "metadata": {
        "id": "78FjW2XMjgR5",
        "colab": {
          "base_uri": "https://localhost:8080/",
          "height": 423
        },
        "outputId": "7591d16b-60e9-4519-b055-c2f85d25945a"
      },
      "id": "78FjW2XMjgR5",
      "execution_count": null,
      "outputs": [
        {
          "output_type": "execute_result",
          "data": {
            "text/plain": [
              "            id                                               text  negative  \\\n",
              "0      2DDHQW9   barcha aaindou fiha hak w barcha teflim kadhalik  0.808824   \n",
              "1      5HY6UEY                               ye gernabou ye kahba  0.995593   \n",
              "2      ATNVUJX                    saber w barra rabbi maak khouya  0.004700   \n",
              "3      Q9XYVOQ               chaaébbb tahaaaaannnnnnnnnnn tfouuhh  0.981961   \n",
              "4      TOAHLRH  rabi ykhalihoulek w yfarhek bih w inchallah it...  0.002517   \n",
              "...        ...                                                ...       ...   \n",
              "29995  NHXTL3R                                    me ihebekch raw  0.021306   \n",
              "29996  U1YWB2O  nchallah rabi maak w iwafkek mais just habit n...  0.016430   \n",
              "29997  O3KYLM0  slim rabi maak w ekhedem w khalli lhossed lemn...  0.084679   \n",
              "29998  W4C38TY  bara khalis rouhik yizi mitbalait jamaiya hlak...  0.995059   \n",
              "29999  4NNX5QE  rabi maaaaak ya khawlaaa nhebouuuuk rana barsh...  0.002593   \n",
              "\n",
              "        postive  \n",
              "0      0.191176  \n",
              "1      0.004407  \n",
              "2      0.995299  \n",
              "3      0.018039  \n",
              "4      0.997483  \n",
              "...         ...  \n",
              "29995  0.978694  \n",
              "29996  0.983570  \n",
              "29997  0.915321  \n",
              "29998  0.004941  \n",
              "29999  0.997407  \n",
              "\n",
              "[30000 rows x 4 columns]"
            ],
            "text/html": [
              "\n",
              "  <div id=\"df-ac2c48bf-20c4-42da-847e-5deea2e3d7a5\">\n",
              "    <div class=\"colab-df-container\">\n",
              "      <div>\n",
              "<style scoped>\n",
              "    .dataframe tbody tr th:only-of-type {\n",
              "        vertical-align: middle;\n",
              "    }\n",
              "\n",
              "    .dataframe tbody tr th {\n",
              "        vertical-align: top;\n",
              "    }\n",
              "\n",
              "    .dataframe thead th {\n",
              "        text-align: right;\n",
              "    }\n",
              "</style>\n",
              "<table border=\"1\" class=\"dataframe\">\n",
              "  <thead>\n",
              "    <tr style=\"text-align: right;\">\n",
              "      <th></th>\n",
              "      <th>id</th>\n",
              "      <th>text</th>\n",
              "      <th>negative</th>\n",
              "      <th>postive</th>\n",
              "    </tr>\n",
              "  </thead>\n",
              "  <tbody>\n",
              "    <tr>\n",
              "      <th>0</th>\n",
              "      <td>2DDHQW9</td>\n",
              "      <td>barcha aaindou fiha hak w barcha teflim kadhalik</td>\n",
              "      <td>0.808824</td>\n",
              "      <td>0.191176</td>\n",
              "    </tr>\n",
              "    <tr>\n",
              "      <th>1</th>\n",
              "      <td>5HY6UEY</td>\n",
              "      <td>ye gernabou ye kahba</td>\n",
              "      <td>0.995593</td>\n",
              "      <td>0.004407</td>\n",
              "    </tr>\n",
              "    <tr>\n",
              "      <th>2</th>\n",
              "      <td>ATNVUJX</td>\n",
              "      <td>saber w barra rabbi maak khouya</td>\n",
              "      <td>0.004700</td>\n",
              "      <td>0.995299</td>\n",
              "    </tr>\n",
              "    <tr>\n",
              "      <th>3</th>\n",
              "      <td>Q9XYVOQ</td>\n",
              "      <td>chaaébbb tahaaaaannnnnnnnnnn tfouuhh</td>\n",
              "      <td>0.981961</td>\n",
              "      <td>0.018039</td>\n",
              "    </tr>\n",
              "    <tr>\n",
              "      <th>4</th>\n",
              "      <td>TOAHLRH</td>\n",
              "      <td>rabi ykhalihoulek w yfarhek bih w inchallah it...</td>\n",
              "      <td>0.002517</td>\n",
              "      <td>0.997483</td>\n",
              "    </tr>\n",
              "    <tr>\n",
              "      <th>...</th>\n",
              "      <td>...</td>\n",
              "      <td>...</td>\n",
              "      <td>...</td>\n",
              "      <td>...</td>\n",
              "    </tr>\n",
              "    <tr>\n",
              "      <th>29995</th>\n",
              "      <td>NHXTL3R</td>\n",
              "      <td>me ihebekch raw</td>\n",
              "      <td>0.021306</td>\n",
              "      <td>0.978694</td>\n",
              "    </tr>\n",
              "    <tr>\n",
              "      <th>29996</th>\n",
              "      <td>U1YWB2O</td>\n",
              "      <td>nchallah rabi maak w iwafkek mais just habit n...</td>\n",
              "      <td>0.016430</td>\n",
              "      <td>0.983570</td>\n",
              "    </tr>\n",
              "    <tr>\n",
              "      <th>29997</th>\n",
              "      <td>O3KYLM0</td>\n",
              "      <td>slim rabi maak w ekhedem w khalli lhossed lemn...</td>\n",
              "      <td>0.084679</td>\n",
              "      <td>0.915321</td>\n",
              "    </tr>\n",
              "    <tr>\n",
              "      <th>29998</th>\n",
              "      <td>W4C38TY</td>\n",
              "      <td>bara khalis rouhik yizi mitbalait jamaiya hlak...</td>\n",
              "      <td>0.995059</td>\n",
              "      <td>0.004941</td>\n",
              "    </tr>\n",
              "    <tr>\n",
              "      <th>29999</th>\n",
              "      <td>4NNX5QE</td>\n",
              "      <td>rabi maaaaak ya khawlaaa nhebouuuuk rana barsh...</td>\n",
              "      <td>0.002593</td>\n",
              "      <td>0.997407</td>\n",
              "    </tr>\n",
              "  </tbody>\n",
              "</table>\n",
              "<p>30000 rows × 4 columns</p>\n",
              "</div>\n",
              "      <button class=\"colab-df-convert\" onclick=\"convertToInteractive('df-ac2c48bf-20c4-42da-847e-5deea2e3d7a5')\"\n",
              "              title=\"Convert this dataframe to an interactive table.\"\n",
              "              style=\"display:none;\">\n",
              "        \n",
              "  <svg xmlns=\"http://www.w3.org/2000/svg\" height=\"24px\"viewBox=\"0 0 24 24\"\n",
              "       width=\"24px\">\n",
              "    <path d=\"M0 0h24v24H0V0z\" fill=\"none\"/>\n",
              "    <path d=\"M18.56 5.44l.94 2.06.94-2.06 2.06-.94-2.06-.94-.94-2.06-.94 2.06-2.06.94zm-11 1L8.5 8.5l.94-2.06 2.06-.94-2.06-.94L8.5 2.5l-.94 2.06-2.06.94zm10 10l.94 2.06.94-2.06 2.06-.94-2.06-.94-.94-2.06-.94 2.06-2.06.94z\"/><path d=\"M17.41 7.96l-1.37-1.37c-.4-.4-.92-.59-1.43-.59-.52 0-1.04.2-1.43.59L10.3 9.45l-7.72 7.72c-.78.78-.78 2.05 0 2.83L4 21.41c.39.39.9.59 1.41.59.51 0 1.02-.2 1.41-.59l7.78-7.78 2.81-2.81c.8-.78.8-2.07 0-2.86zM5.41 20L4 18.59l7.72-7.72 1.47 1.35L5.41 20z\"/>\n",
              "  </svg>\n",
              "      </button>\n",
              "      \n",
              "  <style>\n",
              "    .colab-df-container {\n",
              "      display:flex;\n",
              "      flex-wrap:wrap;\n",
              "      gap: 12px;\n",
              "    }\n",
              "\n",
              "    .colab-df-convert {\n",
              "      background-color: #E8F0FE;\n",
              "      border: none;\n",
              "      border-radius: 50%;\n",
              "      cursor: pointer;\n",
              "      display: none;\n",
              "      fill: #1967D2;\n",
              "      height: 32px;\n",
              "      padding: 0 0 0 0;\n",
              "      width: 32px;\n",
              "    }\n",
              "\n",
              "    .colab-df-convert:hover {\n",
              "      background-color: #E2EBFA;\n",
              "      box-shadow: 0px 1px 2px rgba(60, 64, 67, 0.3), 0px 1px 3px 1px rgba(60, 64, 67, 0.15);\n",
              "      fill: #174EA6;\n",
              "    }\n",
              "\n",
              "    [theme=dark] .colab-df-convert {\n",
              "      background-color: #3B4455;\n",
              "      fill: #D2E3FC;\n",
              "    }\n",
              "\n",
              "    [theme=dark] .colab-df-convert:hover {\n",
              "      background-color: #434B5C;\n",
              "      box-shadow: 0px 1px 3px 1px rgba(0, 0, 0, 0.15);\n",
              "      filter: drop-shadow(0px 1px 2px rgba(0, 0, 0, 0.3));\n",
              "      fill: #FFFFFF;\n",
              "    }\n",
              "  </style>\n",
              "\n",
              "      <script>\n",
              "        const buttonEl =\n",
              "          document.querySelector('#df-ac2c48bf-20c4-42da-847e-5deea2e3d7a5 button.colab-df-convert');\n",
              "        buttonEl.style.display =\n",
              "          google.colab.kernel.accessAllowed ? 'block' : 'none';\n",
              "\n",
              "        async function convertToInteractive(key) {\n",
              "          const element = document.querySelector('#df-ac2c48bf-20c4-42da-847e-5deea2e3d7a5');\n",
              "          const dataTable =\n",
              "            await google.colab.kernel.invokeFunction('convertToInteractive',\n",
              "                                                     [key], {});\n",
              "          if (!dataTable) return;\n",
              "\n",
              "          const docLinkHtml = 'Like what you see? Visit the ' +\n",
              "            '<a target=\"_blank\" href=https://colab.research.google.com/notebooks/data_table.ipynb>data table notebook</a>'\n",
              "            + ' to learn more about interactive tables.';\n",
              "          element.innerHTML = '';\n",
              "          dataTable['output_type'] = 'display_data';\n",
              "          await google.colab.output.renderOutput(dataTable, element);\n",
              "          const docLink = document.createElement('div');\n",
              "          docLink.innerHTML = docLinkHtml;\n",
              "          element.appendChild(docLink);\n",
              "        }\n",
              "      </script>\n",
              "    </div>\n",
              "  </div>\n",
              "  "
            ]
          },
          "metadata": {},
          "execution_count": 52
        }
      ]
    },
    {
      "cell_type": "code",
      "source": [
        "test1=[' ma5yebha el3icha fi tunes','bravo mahleeek y behi nhebek barcha','bara nik omek','9ahba',\n",
        "       'eb3edni zebi rani mkarez','nakrheek y kaleb','manich farhan bel service mte3kom','rabi m3akom','fadetni rak']\n",
        "sentences_t1=test1\n",
        "test_inputs1, test_masks1 = preprocessing_tweets_for_tunizibert(sentences_t1,tokenizer)\n",
        "test_data1= TensorDataset(test_inputs1, test_masks1)\n",
        "test_sampler1= SequentialSampler(test_data1)\n",
        "test_dataloader1= DataLoader(test_data1, sampler=test_sampler1, batch_size=batch_size)\n",
        "probs1 = tunizibert_predict(tunizibert_classifier, test_dataloader1)\n"
      ],
      "metadata": {
        "id": "q-uKgz09K8OY"
      },
      "id": "q-uKgz09K8OY",
      "execution_count": null,
      "outputs": []
    },
    {
      "cell_type": "code",
      "source": [
        "probs1"
      ],
      "metadata": {
        "id": "Mw1L4ggGK8LH",
        "colab": {
          "base_uri": "https://localhost:8080/"
        },
        "outputId": "6bb52f76-1317-4744-d8c3-962cfef94c74"
      },
      "id": "Mw1L4ggGK8LH",
      "execution_count": null,
      "outputs": [
        {
          "output_type": "execute_result",
          "data": {
            "text/plain": [
              "array([[9.91378903e-01, 8.62111337e-03],\n",
              "       [9.44328378e-04, 9.99055684e-01],\n",
              "       [9.95616794e-01, 4.38317098e-03],\n",
              "       [9.92258847e-01, 7.74111412e-03],\n",
              "       [9.85571504e-01, 1.44284805e-02],\n",
              "       [9.95480299e-01, 4.51965909e-03],\n",
              "       [9.91831243e-01, 8.16876348e-03],\n",
              "       [2.51953467e-03, 9.97480452e-01],\n",
              "       [2.11453468e-01, 7.88546503e-01]], dtype=float32)"
            ]
          },
          "metadata": {},
          "execution_count": 54
        }
      ]
    },
    {
      "cell_type": "code",
      "execution_count": null,
      "metadata": {
        "id": "jx3k1L0rJ0g4"
      },
      "outputs": [],
      "source": [
        "import pickle\n",
        "with open('pcdtunizibert_pkl', 'wb') as files:\n",
        "    pickle.dump(tunizibert_classifier, files)\n",
        "\n"
      ],
      "id": "jx3k1L0rJ0g4"
    },
    {
      "cell_type": "code",
      "source": [
        "import pickle\n",
        "with open('pcdtunizibert_pkl.pkl', 'wb') as files:\n",
        "    pickle.dump(tunizibert_classifier, files)"
      ],
      "metadata": {
        "id": "C3n1Ge0FHwrm"
      },
      "id": "C3n1Ge0FHwrm",
      "execution_count": null,
      "outputs": []
    },
    {
      "cell_type": "code",
      "source": [
        "# load saved model\n",
        "with open('pcdtunizibert_pkl.pkl' , 'rb') as f:\n",
        "  newbert = pickle.load(f)"
      ],
      "metadata": {
        "id": "Xo2IssZQH1nT"
      },
      "id": "Xo2IssZQH1nT",
      "execution_count": null,
      "outputs": []
    },
    {
      "cell_type": "code",
      "source": [
        "# load saved model\n",
        "with open('pcdtunizibert_pkl' , 'rb') as f:\n",
        "  newbert = pickle.load(f)"
      ],
      "metadata": {
        "id": "0PjUwFjueG_-"
      },
      "id": "0PjUwFjueG_-",
      "execution_count": null,
      "outputs": []
    },
    {
      "cell_type": "code",
      "source": [
        "newbert"
      ],
      "metadata": {
        "id": "SmuP-gRRm4VY",
        "colab": {
          "base_uri": "https://localhost:8080/"
        },
        "outputId": "62bc3e4e-9e08-449f-d037-939574507881"
      },
      "id": "SmuP-gRRm4VY",
      "execution_count": null,
      "outputs": [
        {
          "output_type": "execute_result",
          "data": {
            "text/plain": [
              "TUNIZIBertClassfier(\n",
              "  (bert): BertModel(\n",
              "    (embeddings): BertEmbeddings(\n",
              "      (word_embeddings): Embedding(30522, 768, padding_idx=0)\n",
              "      (position_embeddings): Embedding(512, 768)\n",
              "      (token_type_embeddings): Embedding(2, 768)\n",
              "      (LayerNorm): LayerNorm((768,), eps=1e-12, elementwise_affine=True)\n",
              "      (dropout): Dropout(p=0.1, inplace=False)\n",
              "    )\n",
              "    (encoder): BertEncoder(\n",
              "      (layer): ModuleList(\n",
              "        (0): BertLayer(\n",
              "          (attention): BertAttention(\n",
              "            (self): BertSelfAttention(\n",
              "              (query): Linear(in_features=768, out_features=768, bias=True)\n",
              "              (key): Linear(in_features=768, out_features=768, bias=True)\n",
              "              (value): Linear(in_features=768, out_features=768, bias=True)\n",
              "              (dropout): Dropout(p=0.1, inplace=False)\n",
              "            )\n",
              "            (output): BertSelfOutput(\n",
              "              (dense): Linear(in_features=768, out_features=768, bias=True)\n",
              "              (LayerNorm): LayerNorm((768,), eps=1e-12, elementwise_affine=True)\n",
              "              (dropout): Dropout(p=0.1, inplace=False)\n",
              "            )\n",
              "          )\n",
              "          (intermediate): BertIntermediate(\n",
              "            (dense): Linear(in_features=768, out_features=3072, bias=True)\n",
              "            (intermediate_act_fn): GELUActivation()\n",
              "          )\n",
              "          (output): BertOutput(\n",
              "            (dense): Linear(in_features=3072, out_features=768, bias=True)\n",
              "            (LayerNorm): LayerNorm((768,), eps=1e-12, elementwise_affine=True)\n",
              "            (dropout): Dropout(p=0.1, inplace=False)\n",
              "          )\n",
              "        )\n",
              "        (1): BertLayer(\n",
              "          (attention): BertAttention(\n",
              "            (self): BertSelfAttention(\n",
              "              (query): Linear(in_features=768, out_features=768, bias=True)\n",
              "              (key): Linear(in_features=768, out_features=768, bias=True)\n",
              "              (value): Linear(in_features=768, out_features=768, bias=True)\n",
              "              (dropout): Dropout(p=0.1, inplace=False)\n",
              "            )\n",
              "            (output): BertSelfOutput(\n",
              "              (dense): Linear(in_features=768, out_features=768, bias=True)\n",
              "              (LayerNorm): LayerNorm((768,), eps=1e-12, elementwise_affine=True)\n",
              "              (dropout): Dropout(p=0.1, inplace=False)\n",
              "            )\n",
              "          )\n",
              "          (intermediate): BertIntermediate(\n",
              "            (dense): Linear(in_features=768, out_features=3072, bias=True)\n",
              "            (intermediate_act_fn): GELUActivation()\n",
              "          )\n",
              "          (output): BertOutput(\n",
              "            (dense): Linear(in_features=3072, out_features=768, bias=True)\n",
              "            (LayerNorm): LayerNorm((768,), eps=1e-12, elementwise_affine=True)\n",
              "            (dropout): Dropout(p=0.1, inplace=False)\n",
              "          )\n",
              "        )\n",
              "        (2): BertLayer(\n",
              "          (attention): BertAttention(\n",
              "            (self): BertSelfAttention(\n",
              "              (query): Linear(in_features=768, out_features=768, bias=True)\n",
              "              (key): Linear(in_features=768, out_features=768, bias=True)\n",
              "              (value): Linear(in_features=768, out_features=768, bias=True)\n",
              "              (dropout): Dropout(p=0.1, inplace=False)\n",
              "            )\n",
              "            (output): BertSelfOutput(\n",
              "              (dense): Linear(in_features=768, out_features=768, bias=True)\n",
              "              (LayerNorm): LayerNorm((768,), eps=1e-12, elementwise_affine=True)\n",
              "              (dropout): Dropout(p=0.1, inplace=False)\n",
              "            )\n",
              "          )\n",
              "          (intermediate): BertIntermediate(\n",
              "            (dense): Linear(in_features=768, out_features=3072, bias=True)\n",
              "            (intermediate_act_fn): GELUActivation()\n",
              "          )\n",
              "          (output): BertOutput(\n",
              "            (dense): Linear(in_features=3072, out_features=768, bias=True)\n",
              "            (LayerNorm): LayerNorm((768,), eps=1e-12, elementwise_affine=True)\n",
              "            (dropout): Dropout(p=0.1, inplace=False)\n",
              "          )\n",
              "        )\n",
              "        (3): BertLayer(\n",
              "          (attention): BertAttention(\n",
              "            (self): BertSelfAttention(\n",
              "              (query): Linear(in_features=768, out_features=768, bias=True)\n",
              "              (key): Linear(in_features=768, out_features=768, bias=True)\n",
              "              (value): Linear(in_features=768, out_features=768, bias=True)\n",
              "              (dropout): Dropout(p=0.1, inplace=False)\n",
              "            )\n",
              "            (output): BertSelfOutput(\n",
              "              (dense): Linear(in_features=768, out_features=768, bias=True)\n",
              "              (LayerNorm): LayerNorm((768,), eps=1e-12, elementwise_affine=True)\n",
              "              (dropout): Dropout(p=0.1, inplace=False)\n",
              "            )\n",
              "          )\n",
              "          (intermediate): BertIntermediate(\n",
              "            (dense): Linear(in_features=768, out_features=3072, bias=True)\n",
              "            (intermediate_act_fn): GELUActivation()\n",
              "          )\n",
              "          (output): BertOutput(\n",
              "            (dense): Linear(in_features=3072, out_features=768, bias=True)\n",
              "            (LayerNorm): LayerNorm((768,), eps=1e-12, elementwise_affine=True)\n",
              "            (dropout): Dropout(p=0.1, inplace=False)\n",
              "          )\n",
              "        )\n",
              "        (4): BertLayer(\n",
              "          (attention): BertAttention(\n",
              "            (self): BertSelfAttention(\n",
              "              (query): Linear(in_features=768, out_features=768, bias=True)\n",
              "              (key): Linear(in_features=768, out_features=768, bias=True)\n",
              "              (value): Linear(in_features=768, out_features=768, bias=True)\n",
              "              (dropout): Dropout(p=0.1, inplace=False)\n",
              "            )\n",
              "            (output): BertSelfOutput(\n",
              "              (dense): Linear(in_features=768, out_features=768, bias=True)\n",
              "              (LayerNorm): LayerNorm((768,), eps=1e-12, elementwise_affine=True)\n",
              "              (dropout): Dropout(p=0.1, inplace=False)\n",
              "            )\n",
              "          )\n",
              "          (intermediate): BertIntermediate(\n",
              "            (dense): Linear(in_features=768, out_features=3072, bias=True)\n",
              "            (intermediate_act_fn): GELUActivation()\n",
              "          )\n",
              "          (output): BertOutput(\n",
              "            (dense): Linear(in_features=3072, out_features=768, bias=True)\n",
              "            (LayerNorm): LayerNorm((768,), eps=1e-12, elementwise_affine=True)\n",
              "            (dropout): Dropout(p=0.1, inplace=False)\n",
              "          )\n",
              "        )\n",
              "        (5): BertLayer(\n",
              "          (attention): BertAttention(\n",
              "            (self): BertSelfAttention(\n",
              "              (query): Linear(in_features=768, out_features=768, bias=True)\n",
              "              (key): Linear(in_features=768, out_features=768, bias=True)\n",
              "              (value): Linear(in_features=768, out_features=768, bias=True)\n",
              "              (dropout): Dropout(p=0.1, inplace=False)\n",
              "            )\n",
              "            (output): BertSelfOutput(\n",
              "              (dense): Linear(in_features=768, out_features=768, bias=True)\n",
              "              (LayerNorm): LayerNorm((768,), eps=1e-12, elementwise_affine=True)\n",
              "              (dropout): Dropout(p=0.1, inplace=False)\n",
              "            )\n",
              "          )\n",
              "          (intermediate): BertIntermediate(\n",
              "            (dense): Linear(in_features=768, out_features=3072, bias=True)\n",
              "            (intermediate_act_fn): GELUActivation()\n",
              "          )\n",
              "          (output): BertOutput(\n",
              "            (dense): Linear(in_features=3072, out_features=768, bias=True)\n",
              "            (LayerNorm): LayerNorm((768,), eps=1e-12, elementwise_affine=True)\n",
              "            (dropout): Dropout(p=0.1, inplace=False)\n",
              "          )\n",
              "        )\n",
              "        (6): BertLayer(\n",
              "          (attention): BertAttention(\n",
              "            (self): BertSelfAttention(\n",
              "              (query): Linear(in_features=768, out_features=768, bias=True)\n",
              "              (key): Linear(in_features=768, out_features=768, bias=True)\n",
              "              (value): Linear(in_features=768, out_features=768, bias=True)\n",
              "              (dropout): Dropout(p=0.1, inplace=False)\n",
              "            )\n",
              "            (output): BertSelfOutput(\n",
              "              (dense): Linear(in_features=768, out_features=768, bias=True)\n",
              "              (LayerNorm): LayerNorm((768,), eps=1e-12, elementwise_affine=True)\n",
              "              (dropout): Dropout(p=0.1, inplace=False)\n",
              "            )\n",
              "          )\n",
              "          (intermediate): BertIntermediate(\n",
              "            (dense): Linear(in_features=768, out_features=3072, bias=True)\n",
              "            (intermediate_act_fn): GELUActivation()\n",
              "          )\n",
              "          (output): BertOutput(\n",
              "            (dense): Linear(in_features=3072, out_features=768, bias=True)\n",
              "            (LayerNorm): LayerNorm((768,), eps=1e-12, elementwise_affine=True)\n",
              "            (dropout): Dropout(p=0.1, inplace=False)\n",
              "          )\n",
              "        )\n",
              "        (7): BertLayer(\n",
              "          (attention): BertAttention(\n",
              "            (self): BertSelfAttention(\n",
              "              (query): Linear(in_features=768, out_features=768, bias=True)\n",
              "              (key): Linear(in_features=768, out_features=768, bias=True)\n",
              "              (value): Linear(in_features=768, out_features=768, bias=True)\n",
              "              (dropout): Dropout(p=0.1, inplace=False)\n",
              "            )\n",
              "            (output): BertSelfOutput(\n",
              "              (dense): Linear(in_features=768, out_features=768, bias=True)\n",
              "              (LayerNorm): LayerNorm((768,), eps=1e-12, elementwise_affine=True)\n",
              "              (dropout): Dropout(p=0.1, inplace=False)\n",
              "            )\n",
              "          )\n",
              "          (intermediate): BertIntermediate(\n",
              "            (dense): Linear(in_features=768, out_features=3072, bias=True)\n",
              "            (intermediate_act_fn): GELUActivation()\n",
              "          )\n",
              "          (output): BertOutput(\n",
              "            (dense): Linear(in_features=3072, out_features=768, bias=True)\n",
              "            (LayerNorm): LayerNorm((768,), eps=1e-12, elementwise_affine=True)\n",
              "            (dropout): Dropout(p=0.1, inplace=False)\n",
              "          )\n",
              "        )\n",
              "        (8): BertLayer(\n",
              "          (attention): BertAttention(\n",
              "            (self): BertSelfAttention(\n",
              "              (query): Linear(in_features=768, out_features=768, bias=True)\n",
              "              (key): Linear(in_features=768, out_features=768, bias=True)\n",
              "              (value): Linear(in_features=768, out_features=768, bias=True)\n",
              "              (dropout): Dropout(p=0.1, inplace=False)\n",
              "            )\n",
              "            (output): BertSelfOutput(\n",
              "              (dense): Linear(in_features=768, out_features=768, bias=True)\n",
              "              (LayerNorm): LayerNorm((768,), eps=1e-12, elementwise_affine=True)\n",
              "              (dropout): Dropout(p=0.1, inplace=False)\n",
              "            )\n",
              "          )\n",
              "          (intermediate): BertIntermediate(\n",
              "            (dense): Linear(in_features=768, out_features=3072, bias=True)\n",
              "            (intermediate_act_fn): GELUActivation()\n",
              "          )\n",
              "          (output): BertOutput(\n",
              "            (dense): Linear(in_features=3072, out_features=768, bias=True)\n",
              "            (LayerNorm): LayerNorm((768,), eps=1e-12, elementwise_affine=True)\n",
              "            (dropout): Dropout(p=0.1, inplace=False)\n",
              "          )\n",
              "        )\n",
              "        (9): BertLayer(\n",
              "          (attention): BertAttention(\n",
              "            (self): BertSelfAttention(\n",
              "              (query): Linear(in_features=768, out_features=768, bias=True)\n",
              "              (key): Linear(in_features=768, out_features=768, bias=True)\n",
              "              (value): Linear(in_features=768, out_features=768, bias=True)\n",
              "              (dropout): Dropout(p=0.1, inplace=False)\n",
              "            )\n",
              "            (output): BertSelfOutput(\n",
              "              (dense): Linear(in_features=768, out_features=768, bias=True)\n",
              "              (LayerNorm): LayerNorm((768,), eps=1e-12, elementwise_affine=True)\n",
              "              (dropout): Dropout(p=0.1, inplace=False)\n",
              "            )\n",
              "          )\n",
              "          (intermediate): BertIntermediate(\n",
              "            (dense): Linear(in_features=768, out_features=3072, bias=True)\n",
              "            (intermediate_act_fn): GELUActivation()\n",
              "          )\n",
              "          (output): BertOutput(\n",
              "            (dense): Linear(in_features=3072, out_features=768, bias=True)\n",
              "            (LayerNorm): LayerNorm((768,), eps=1e-12, elementwise_affine=True)\n",
              "            (dropout): Dropout(p=0.1, inplace=False)\n",
              "          )\n",
              "        )\n",
              "        (10): BertLayer(\n",
              "          (attention): BertAttention(\n",
              "            (self): BertSelfAttention(\n",
              "              (query): Linear(in_features=768, out_features=768, bias=True)\n",
              "              (key): Linear(in_features=768, out_features=768, bias=True)\n",
              "              (value): Linear(in_features=768, out_features=768, bias=True)\n",
              "              (dropout): Dropout(p=0.1, inplace=False)\n",
              "            )\n",
              "            (output): BertSelfOutput(\n",
              "              (dense): Linear(in_features=768, out_features=768, bias=True)\n",
              "              (LayerNorm): LayerNorm((768,), eps=1e-12, elementwise_affine=True)\n",
              "              (dropout): Dropout(p=0.1, inplace=False)\n",
              "            )\n",
              "          )\n",
              "          (intermediate): BertIntermediate(\n",
              "            (dense): Linear(in_features=768, out_features=3072, bias=True)\n",
              "            (intermediate_act_fn): GELUActivation()\n",
              "          )\n",
              "          (output): BertOutput(\n",
              "            (dense): Linear(in_features=3072, out_features=768, bias=True)\n",
              "            (LayerNorm): LayerNorm((768,), eps=1e-12, elementwise_affine=True)\n",
              "            (dropout): Dropout(p=0.1, inplace=False)\n",
              "          )\n",
              "        )\n",
              "        (11): BertLayer(\n",
              "          (attention): BertAttention(\n",
              "            (self): BertSelfAttention(\n",
              "              (query): Linear(in_features=768, out_features=768, bias=True)\n",
              "              (key): Linear(in_features=768, out_features=768, bias=True)\n",
              "              (value): Linear(in_features=768, out_features=768, bias=True)\n",
              "              (dropout): Dropout(p=0.1, inplace=False)\n",
              "            )\n",
              "            (output): BertSelfOutput(\n",
              "              (dense): Linear(in_features=768, out_features=768, bias=True)\n",
              "              (LayerNorm): LayerNorm((768,), eps=1e-12, elementwise_affine=True)\n",
              "              (dropout): Dropout(p=0.1, inplace=False)\n",
              "            )\n",
              "          )\n",
              "          (intermediate): BertIntermediate(\n",
              "            (dense): Linear(in_features=768, out_features=3072, bias=True)\n",
              "            (intermediate_act_fn): GELUActivation()\n",
              "          )\n",
              "          (output): BertOutput(\n",
              "            (dense): Linear(in_features=3072, out_features=768, bias=True)\n",
              "            (LayerNorm): LayerNorm((768,), eps=1e-12, elementwise_affine=True)\n",
              "            (dropout): Dropout(p=0.1, inplace=False)\n",
              "          )\n",
              "        )\n",
              "      )\n",
              "    )\n",
              "    (pooler): BertPooler(\n",
              "      (dense): Linear(in_features=768, out_features=768, bias=True)\n",
              "      (activation): Tanh()\n",
              "    )\n",
              "  )\n",
              "  (classifier): Sequential(\n",
              "    (0): Linear(in_features=768, out_features=50, bias=True)\n",
              "    (1): ReLU()\n",
              "    (2): Dropout(p=0.5, inplace=False)\n",
              "    (3): Linear(in_features=50, out_features=2, bias=True)\n",
              "  )\n",
              ")"
            ]
          },
          "metadata": {},
          "execution_count": 57
        }
      ]
    },
    {
      "cell_type": "code",
      "source": [
        ""
      ],
      "metadata": {
        "id": "kcdb-etxm6PU"
      },
      "id": "kcdb-etxm6PU",
      "execution_count": null,
      "outputs": []
    },
    {
      "cell_type": "code",
      "source": [
        ""
      ],
      "metadata": {
        "id": "EFeIy9f1YgRp"
      },
      "id": "EFeIy9f1YgRp",
      "execution_count": null,
      "outputs": []
    }
  ],
  "metadata": {
    "kernelspec": {
      "display_name": "Python 3",
      "language": "python",
      "name": "python3"
    },
    "language_info": {
      "codemirror_mode": {
        "name": "ipython",
        "version": 3
      },
      "file_extension": ".py",
      "mimetype": "text/x-python",
      "name": "python",
      "nbconvert_exporter": "python",
      "pygments_lexer": "ipython3",
      "version": "3.8.5"
    },
    "colab": {
      "name": "PCD_TUNIZIBERT1 (1).ipynb",
      "provenance": [],
      "collapsed_sections": []
    },
    "accelerator": "GPU",
    "widgets": {
      "application/vnd.jupyter.widget-state+json": {
        "e332db1b713c4962af68c6b663b18dbf": {
          "model_module": "@jupyter-widgets/controls",
          "model_name": "HBoxModel",
          "model_module_version": "1.5.0",
          "state": {
            "_dom_classes": [],
            "_model_module": "@jupyter-widgets/controls",
            "_model_module_version": "1.5.0",
            "_model_name": "HBoxModel",
            "_view_count": null,
            "_view_module": "@jupyter-widgets/controls",
            "_view_module_version": "1.5.0",
            "_view_name": "HBoxView",
            "box_style": "",
            "children": [
              "IPY_MODEL_abc13d4892554519ba1e6d7b810dd78a",
              "IPY_MODEL_359114bdc59a4b238125f154032eb52c",
              "IPY_MODEL_276e9fca90494feeaa74c2f2e6bd059a"
            ],
            "layout": "IPY_MODEL_0c6b27d0017e4097b9a0ec62f14c388a"
          }
        },
        "abc13d4892554519ba1e6d7b810dd78a": {
          "model_module": "@jupyter-widgets/controls",
          "model_name": "HTMLModel",
          "model_module_version": "1.5.0",
          "state": {
            "_dom_classes": [],
            "_model_module": "@jupyter-widgets/controls",
            "_model_module_version": "1.5.0",
            "_model_name": "HTMLModel",
            "_view_count": null,
            "_view_module": "@jupyter-widgets/controls",
            "_view_module_version": "1.5.0",
            "_view_name": "HTMLView",
            "description": "",
            "description_tooltip": null,
            "layout": "IPY_MODEL_79c46c7f98764089a97cac1039d1b864",
            "placeholder": "​",
            "style": "IPY_MODEL_6e3ffab985cc4485a15e332144f98d52",
            "value": "Downloading: 100%"
          }
        },
        "359114bdc59a4b238125f154032eb52c": {
          "model_module": "@jupyter-widgets/controls",
          "model_name": "FloatProgressModel",
          "model_module_version": "1.5.0",
          "state": {
            "_dom_classes": [],
            "_model_module": "@jupyter-widgets/controls",
            "_model_module_version": "1.5.0",
            "_model_name": "FloatProgressModel",
            "_view_count": null,
            "_view_module": "@jupyter-widgets/controls",
            "_view_module_version": "1.5.0",
            "_view_name": "ProgressView",
            "bar_style": "success",
            "description": "",
            "description_tooltip": null,
            "layout": "IPY_MODEL_dda79abead094728bdf27a6e1cb62717",
            "max": 231508,
            "min": 0,
            "orientation": "horizontal",
            "style": "IPY_MODEL_33eef15c1e8c4daf84a8c8d147b65c28",
            "value": 231508
          }
        },
        "276e9fca90494feeaa74c2f2e6bd059a": {
          "model_module": "@jupyter-widgets/controls",
          "model_name": "HTMLModel",
          "model_module_version": "1.5.0",
          "state": {
            "_dom_classes": [],
            "_model_module": "@jupyter-widgets/controls",
            "_model_module_version": "1.5.0",
            "_model_name": "HTMLModel",
            "_view_count": null,
            "_view_module": "@jupyter-widgets/controls",
            "_view_module_version": "1.5.0",
            "_view_name": "HTMLView",
            "description": "",
            "description_tooltip": null,
            "layout": "IPY_MODEL_84528dd8efb84a7f809180b6b30e12c6",
            "placeholder": "​",
            "style": "IPY_MODEL_d4aa855022444364836b13acdc4248c2",
            "value": " 226k/226k [00:00&lt;00:00, 245kB/s]"
          }
        },
        "0c6b27d0017e4097b9a0ec62f14c388a": {
          "model_module": "@jupyter-widgets/base",
          "model_name": "LayoutModel",
          "model_module_version": "1.2.0",
          "state": {
            "_model_module": "@jupyter-widgets/base",
            "_model_module_version": "1.2.0",
            "_model_name": "LayoutModel",
            "_view_count": null,
            "_view_module": "@jupyter-widgets/base",
            "_view_module_version": "1.2.0",
            "_view_name": "LayoutView",
            "align_content": null,
            "align_items": null,
            "align_self": null,
            "border": null,
            "bottom": null,
            "display": null,
            "flex": null,
            "flex_flow": null,
            "grid_area": null,
            "grid_auto_columns": null,
            "grid_auto_flow": null,
            "grid_auto_rows": null,
            "grid_column": null,
            "grid_gap": null,
            "grid_row": null,
            "grid_template_areas": null,
            "grid_template_columns": null,
            "grid_template_rows": null,
            "height": null,
            "justify_content": null,
            "justify_items": null,
            "left": null,
            "margin": null,
            "max_height": null,
            "max_width": null,
            "min_height": null,
            "min_width": null,
            "object_fit": null,
            "object_position": null,
            "order": null,
            "overflow": null,
            "overflow_x": null,
            "overflow_y": null,
            "padding": null,
            "right": null,
            "top": null,
            "visibility": null,
            "width": null
          }
        },
        "79c46c7f98764089a97cac1039d1b864": {
          "model_module": "@jupyter-widgets/base",
          "model_name": "LayoutModel",
          "model_module_version": "1.2.0",
          "state": {
            "_model_module": "@jupyter-widgets/base",
            "_model_module_version": "1.2.0",
            "_model_name": "LayoutModel",
            "_view_count": null,
            "_view_module": "@jupyter-widgets/base",
            "_view_module_version": "1.2.0",
            "_view_name": "LayoutView",
            "align_content": null,
            "align_items": null,
            "align_self": null,
            "border": null,
            "bottom": null,
            "display": null,
            "flex": null,
            "flex_flow": null,
            "grid_area": null,
            "grid_auto_columns": null,
            "grid_auto_flow": null,
            "grid_auto_rows": null,
            "grid_column": null,
            "grid_gap": null,
            "grid_row": null,
            "grid_template_areas": null,
            "grid_template_columns": null,
            "grid_template_rows": null,
            "height": null,
            "justify_content": null,
            "justify_items": null,
            "left": null,
            "margin": null,
            "max_height": null,
            "max_width": null,
            "min_height": null,
            "min_width": null,
            "object_fit": null,
            "object_position": null,
            "order": null,
            "overflow": null,
            "overflow_x": null,
            "overflow_y": null,
            "padding": null,
            "right": null,
            "top": null,
            "visibility": null,
            "width": null
          }
        },
        "6e3ffab985cc4485a15e332144f98d52": {
          "model_module": "@jupyter-widgets/controls",
          "model_name": "DescriptionStyleModel",
          "model_module_version": "1.5.0",
          "state": {
            "_model_module": "@jupyter-widgets/controls",
            "_model_module_version": "1.5.0",
            "_model_name": "DescriptionStyleModel",
            "_view_count": null,
            "_view_module": "@jupyter-widgets/base",
            "_view_module_version": "1.2.0",
            "_view_name": "StyleView",
            "description_width": ""
          }
        },
        "dda79abead094728bdf27a6e1cb62717": {
          "model_module": "@jupyter-widgets/base",
          "model_name": "LayoutModel",
          "model_module_version": "1.2.0",
          "state": {
            "_model_module": "@jupyter-widgets/base",
            "_model_module_version": "1.2.0",
            "_model_name": "LayoutModel",
            "_view_count": null,
            "_view_module": "@jupyter-widgets/base",
            "_view_module_version": "1.2.0",
            "_view_name": "LayoutView",
            "align_content": null,
            "align_items": null,
            "align_self": null,
            "border": null,
            "bottom": null,
            "display": null,
            "flex": null,
            "flex_flow": null,
            "grid_area": null,
            "grid_auto_columns": null,
            "grid_auto_flow": null,
            "grid_auto_rows": null,
            "grid_column": null,
            "grid_gap": null,
            "grid_row": null,
            "grid_template_areas": null,
            "grid_template_columns": null,
            "grid_template_rows": null,
            "height": null,
            "justify_content": null,
            "justify_items": null,
            "left": null,
            "margin": null,
            "max_height": null,
            "max_width": null,
            "min_height": null,
            "min_width": null,
            "object_fit": null,
            "object_position": null,
            "order": null,
            "overflow": null,
            "overflow_x": null,
            "overflow_y": null,
            "padding": null,
            "right": null,
            "top": null,
            "visibility": null,
            "width": null
          }
        },
        "33eef15c1e8c4daf84a8c8d147b65c28": {
          "model_module": "@jupyter-widgets/controls",
          "model_name": "ProgressStyleModel",
          "model_module_version": "1.5.0",
          "state": {
            "_model_module": "@jupyter-widgets/controls",
            "_model_module_version": "1.5.0",
            "_model_name": "ProgressStyleModel",
            "_view_count": null,
            "_view_module": "@jupyter-widgets/base",
            "_view_module_version": "1.2.0",
            "_view_name": "StyleView",
            "bar_color": null,
            "description_width": ""
          }
        },
        "84528dd8efb84a7f809180b6b30e12c6": {
          "model_module": "@jupyter-widgets/base",
          "model_name": "LayoutModel",
          "model_module_version": "1.2.0",
          "state": {
            "_model_module": "@jupyter-widgets/base",
            "_model_module_version": "1.2.0",
            "_model_name": "LayoutModel",
            "_view_count": null,
            "_view_module": "@jupyter-widgets/base",
            "_view_module_version": "1.2.0",
            "_view_name": "LayoutView",
            "align_content": null,
            "align_items": null,
            "align_self": null,
            "border": null,
            "bottom": null,
            "display": null,
            "flex": null,
            "flex_flow": null,
            "grid_area": null,
            "grid_auto_columns": null,
            "grid_auto_flow": null,
            "grid_auto_rows": null,
            "grid_column": null,
            "grid_gap": null,
            "grid_row": null,
            "grid_template_areas": null,
            "grid_template_columns": null,
            "grid_template_rows": null,
            "height": null,
            "justify_content": null,
            "justify_items": null,
            "left": null,
            "margin": null,
            "max_height": null,
            "max_width": null,
            "min_height": null,
            "min_width": null,
            "object_fit": null,
            "object_position": null,
            "order": null,
            "overflow": null,
            "overflow_x": null,
            "overflow_y": null,
            "padding": null,
            "right": null,
            "top": null,
            "visibility": null,
            "width": null
          }
        },
        "d4aa855022444364836b13acdc4248c2": {
          "model_module": "@jupyter-widgets/controls",
          "model_name": "DescriptionStyleModel",
          "model_module_version": "1.5.0",
          "state": {
            "_model_module": "@jupyter-widgets/controls",
            "_model_module_version": "1.5.0",
            "_model_name": "DescriptionStyleModel",
            "_view_count": null,
            "_view_module": "@jupyter-widgets/base",
            "_view_module_version": "1.2.0",
            "_view_name": "StyleView",
            "description_width": ""
          }
        },
        "ce0de9ef44a8439f8d543222a5b6425a": {
          "model_module": "@jupyter-widgets/controls",
          "model_name": "HBoxModel",
          "model_module_version": "1.5.0",
          "state": {
            "_dom_classes": [],
            "_model_module": "@jupyter-widgets/controls",
            "_model_module_version": "1.5.0",
            "_model_name": "HBoxModel",
            "_view_count": null,
            "_view_module": "@jupyter-widgets/controls",
            "_view_module_version": "1.5.0",
            "_view_name": "HBoxView",
            "box_style": "",
            "children": [
              "IPY_MODEL_147fbae9481b4875946b3c13dc298d5b",
              "IPY_MODEL_7f3e944d98444f3b82e54a82f0808b79",
              "IPY_MODEL_57e2607fa84548c393164ae5583c5626"
            ],
            "layout": "IPY_MODEL_3efcfb2d264b489a9749e5cf1d3f4049"
          }
        },
        "147fbae9481b4875946b3c13dc298d5b": {
          "model_module": "@jupyter-widgets/controls",
          "model_name": "HTMLModel",
          "model_module_version": "1.5.0",
          "state": {
            "_dom_classes": [],
            "_model_module": "@jupyter-widgets/controls",
            "_model_module_version": "1.5.0",
            "_model_name": "HTMLModel",
            "_view_count": null,
            "_view_module": "@jupyter-widgets/controls",
            "_view_module_version": "1.5.0",
            "_view_name": "HTMLView",
            "description": "",
            "description_tooltip": null,
            "layout": "IPY_MODEL_76dc8ad30bc040079bb488afc344f562",
            "placeholder": "​",
            "style": "IPY_MODEL_c9a02c02bc014a6293bf781d6d5525cd",
            "value": "Downloading: 100%"
          }
        },
        "7f3e944d98444f3b82e54a82f0808b79": {
          "model_module": "@jupyter-widgets/controls",
          "model_name": "FloatProgressModel",
          "model_module_version": "1.5.0",
          "state": {
            "_dom_classes": [],
            "_model_module": "@jupyter-widgets/controls",
            "_model_module_version": "1.5.0",
            "_model_name": "FloatProgressModel",
            "_view_count": null,
            "_view_module": "@jupyter-widgets/controls",
            "_view_module_version": "1.5.0",
            "_view_name": "ProgressView",
            "bar_style": "success",
            "description": "",
            "description_tooltip": null,
            "layout": "IPY_MODEL_3a7a1d92f538441382ca76a819e08b3b",
            "max": 28,
            "min": 0,
            "orientation": "horizontal",
            "style": "IPY_MODEL_9247a6d927f34fbea8cc2b86326aecd2",
            "value": 28
          }
        },
        "57e2607fa84548c393164ae5583c5626": {
          "model_module": "@jupyter-widgets/controls",
          "model_name": "HTMLModel",
          "model_module_version": "1.5.0",
          "state": {
            "_dom_classes": [],
            "_model_module": "@jupyter-widgets/controls",
            "_model_module_version": "1.5.0",
            "_model_name": "HTMLModel",
            "_view_count": null,
            "_view_module": "@jupyter-widgets/controls",
            "_view_module_version": "1.5.0",
            "_view_name": "HTMLView",
            "description": "",
            "description_tooltip": null,
            "layout": "IPY_MODEL_be94db618e124c55a2fe79ec7195fc15",
            "placeholder": "​",
            "style": "IPY_MODEL_ebfe0f11db594c71846f83e19f95dbb1",
            "value": " 28.0/28.0 [00:00&lt;00:00, 234B/s]"
          }
        },
        "3efcfb2d264b489a9749e5cf1d3f4049": {
          "model_module": "@jupyter-widgets/base",
          "model_name": "LayoutModel",
          "model_module_version": "1.2.0",
          "state": {
            "_model_module": "@jupyter-widgets/base",
            "_model_module_version": "1.2.0",
            "_model_name": "LayoutModel",
            "_view_count": null,
            "_view_module": "@jupyter-widgets/base",
            "_view_module_version": "1.2.0",
            "_view_name": "LayoutView",
            "align_content": null,
            "align_items": null,
            "align_self": null,
            "border": null,
            "bottom": null,
            "display": null,
            "flex": null,
            "flex_flow": null,
            "grid_area": null,
            "grid_auto_columns": null,
            "grid_auto_flow": null,
            "grid_auto_rows": null,
            "grid_column": null,
            "grid_gap": null,
            "grid_row": null,
            "grid_template_areas": null,
            "grid_template_columns": null,
            "grid_template_rows": null,
            "height": null,
            "justify_content": null,
            "justify_items": null,
            "left": null,
            "margin": null,
            "max_height": null,
            "max_width": null,
            "min_height": null,
            "min_width": null,
            "object_fit": null,
            "object_position": null,
            "order": null,
            "overflow": null,
            "overflow_x": null,
            "overflow_y": null,
            "padding": null,
            "right": null,
            "top": null,
            "visibility": null,
            "width": null
          }
        },
        "76dc8ad30bc040079bb488afc344f562": {
          "model_module": "@jupyter-widgets/base",
          "model_name": "LayoutModel",
          "model_module_version": "1.2.0",
          "state": {
            "_model_module": "@jupyter-widgets/base",
            "_model_module_version": "1.2.0",
            "_model_name": "LayoutModel",
            "_view_count": null,
            "_view_module": "@jupyter-widgets/base",
            "_view_module_version": "1.2.0",
            "_view_name": "LayoutView",
            "align_content": null,
            "align_items": null,
            "align_self": null,
            "border": null,
            "bottom": null,
            "display": null,
            "flex": null,
            "flex_flow": null,
            "grid_area": null,
            "grid_auto_columns": null,
            "grid_auto_flow": null,
            "grid_auto_rows": null,
            "grid_column": null,
            "grid_gap": null,
            "grid_row": null,
            "grid_template_areas": null,
            "grid_template_columns": null,
            "grid_template_rows": null,
            "height": null,
            "justify_content": null,
            "justify_items": null,
            "left": null,
            "margin": null,
            "max_height": null,
            "max_width": null,
            "min_height": null,
            "min_width": null,
            "object_fit": null,
            "object_position": null,
            "order": null,
            "overflow": null,
            "overflow_x": null,
            "overflow_y": null,
            "padding": null,
            "right": null,
            "top": null,
            "visibility": null,
            "width": null
          }
        },
        "c9a02c02bc014a6293bf781d6d5525cd": {
          "model_module": "@jupyter-widgets/controls",
          "model_name": "DescriptionStyleModel",
          "model_module_version": "1.5.0",
          "state": {
            "_model_module": "@jupyter-widgets/controls",
            "_model_module_version": "1.5.0",
            "_model_name": "DescriptionStyleModel",
            "_view_count": null,
            "_view_module": "@jupyter-widgets/base",
            "_view_module_version": "1.2.0",
            "_view_name": "StyleView",
            "description_width": ""
          }
        },
        "3a7a1d92f538441382ca76a819e08b3b": {
          "model_module": "@jupyter-widgets/base",
          "model_name": "LayoutModel",
          "model_module_version": "1.2.0",
          "state": {
            "_model_module": "@jupyter-widgets/base",
            "_model_module_version": "1.2.0",
            "_model_name": "LayoutModel",
            "_view_count": null,
            "_view_module": "@jupyter-widgets/base",
            "_view_module_version": "1.2.0",
            "_view_name": "LayoutView",
            "align_content": null,
            "align_items": null,
            "align_self": null,
            "border": null,
            "bottom": null,
            "display": null,
            "flex": null,
            "flex_flow": null,
            "grid_area": null,
            "grid_auto_columns": null,
            "grid_auto_flow": null,
            "grid_auto_rows": null,
            "grid_column": null,
            "grid_gap": null,
            "grid_row": null,
            "grid_template_areas": null,
            "grid_template_columns": null,
            "grid_template_rows": null,
            "height": null,
            "justify_content": null,
            "justify_items": null,
            "left": null,
            "margin": null,
            "max_height": null,
            "max_width": null,
            "min_height": null,
            "min_width": null,
            "object_fit": null,
            "object_position": null,
            "order": null,
            "overflow": null,
            "overflow_x": null,
            "overflow_y": null,
            "padding": null,
            "right": null,
            "top": null,
            "visibility": null,
            "width": null
          }
        },
        "9247a6d927f34fbea8cc2b86326aecd2": {
          "model_module": "@jupyter-widgets/controls",
          "model_name": "ProgressStyleModel",
          "model_module_version": "1.5.0",
          "state": {
            "_model_module": "@jupyter-widgets/controls",
            "_model_module_version": "1.5.0",
            "_model_name": "ProgressStyleModel",
            "_view_count": null,
            "_view_module": "@jupyter-widgets/base",
            "_view_module_version": "1.2.0",
            "_view_name": "StyleView",
            "bar_color": null,
            "description_width": ""
          }
        },
        "be94db618e124c55a2fe79ec7195fc15": {
          "model_module": "@jupyter-widgets/base",
          "model_name": "LayoutModel",
          "model_module_version": "1.2.0",
          "state": {
            "_model_module": "@jupyter-widgets/base",
            "_model_module_version": "1.2.0",
            "_model_name": "LayoutModel",
            "_view_count": null,
            "_view_module": "@jupyter-widgets/base",
            "_view_module_version": "1.2.0",
            "_view_name": "LayoutView",
            "align_content": null,
            "align_items": null,
            "align_self": null,
            "border": null,
            "bottom": null,
            "display": null,
            "flex": null,
            "flex_flow": null,
            "grid_area": null,
            "grid_auto_columns": null,
            "grid_auto_flow": null,
            "grid_auto_rows": null,
            "grid_column": null,
            "grid_gap": null,
            "grid_row": null,
            "grid_template_areas": null,
            "grid_template_columns": null,
            "grid_template_rows": null,
            "height": null,
            "justify_content": null,
            "justify_items": null,
            "left": null,
            "margin": null,
            "max_height": null,
            "max_width": null,
            "min_height": null,
            "min_width": null,
            "object_fit": null,
            "object_position": null,
            "order": null,
            "overflow": null,
            "overflow_x": null,
            "overflow_y": null,
            "padding": null,
            "right": null,
            "top": null,
            "visibility": null,
            "width": null
          }
        },
        "ebfe0f11db594c71846f83e19f95dbb1": {
          "model_module": "@jupyter-widgets/controls",
          "model_name": "DescriptionStyleModel",
          "model_module_version": "1.5.0",
          "state": {
            "_model_module": "@jupyter-widgets/controls",
            "_model_module_version": "1.5.0",
            "_model_name": "DescriptionStyleModel",
            "_view_count": null,
            "_view_module": "@jupyter-widgets/base",
            "_view_module_version": "1.2.0",
            "_view_name": "StyleView",
            "description_width": ""
          }
        },
        "d51e73541c3e424fbe370f14dfa85d5c": {
          "model_module": "@jupyter-widgets/controls",
          "model_name": "HBoxModel",
          "model_module_version": "1.5.0",
          "state": {
            "_dom_classes": [],
            "_model_module": "@jupyter-widgets/controls",
            "_model_module_version": "1.5.0",
            "_model_name": "HBoxModel",
            "_view_count": null,
            "_view_module": "@jupyter-widgets/controls",
            "_view_module_version": "1.5.0",
            "_view_name": "HBoxView",
            "box_style": "",
            "children": [
              "IPY_MODEL_58a808e2bd7346878f7a3e569c552ca8",
              "IPY_MODEL_9b52d835fab7405aba0c9433b89fb750",
              "IPY_MODEL_00c72a746e134b688c6879a2b0a79bb6"
            ],
            "layout": "IPY_MODEL_368871fea7454dc3b1d3a3991955209f"
          }
        },
        "58a808e2bd7346878f7a3e569c552ca8": {
          "model_module": "@jupyter-widgets/controls",
          "model_name": "HTMLModel",
          "model_module_version": "1.5.0",
          "state": {
            "_dom_classes": [],
            "_model_module": "@jupyter-widgets/controls",
            "_model_module_version": "1.5.0",
            "_model_name": "HTMLModel",
            "_view_count": null,
            "_view_module": "@jupyter-widgets/controls",
            "_view_module_version": "1.5.0",
            "_view_name": "HTMLView",
            "description": "",
            "description_tooltip": null,
            "layout": "IPY_MODEL_b4cea9caf5c14af2b09cea3aa66b2727",
            "placeholder": "​",
            "style": "IPY_MODEL_48019fe9f73b49b3a8e7d639eecf0844",
            "value": "Downloading: 100%"
          }
        },
        "9b52d835fab7405aba0c9433b89fb750": {
          "model_module": "@jupyter-widgets/controls",
          "model_name": "FloatProgressModel",
          "model_module_version": "1.5.0",
          "state": {
            "_dom_classes": [],
            "_model_module": "@jupyter-widgets/controls",
            "_model_module_version": "1.5.0",
            "_model_name": "FloatProgressModel",
            "_view_count": null,
            "_view_module": "@jupyter-widgets/controls",
            "_view_module_version": "1.5.0",
            "_view_name": "ProgressView",
            "bar_style": "success",
            "description": "",
            "description_tooltip": null,
            "layout": "IPY_MODEL_14830c6ee9a6466abd78b24e08d2ebba",
            "max": 570,
            "min": 0,
            "orientation": "horizontal",
            "style": "IPY_MODEL_329dfa7a50ba4fbe856e423a65b33c9c",
            "value": 570
          }
        },
        "00c72a746e134b688c6879a2b0a79bb6": {
          "model_module": "@jupyter-widgets/controls",
          "model_name": "HTMLModel",
          "model_module_version": "1.5.0",
          "state": {
            "_dom_classes": [],
            "_model_module": "@jupyter-widgets/controls",
            "_model_module_version": "1.5.0",
            "_model_name": "HTMLModel",
            "_view_count": null,
            "_view_module": "@jupyter-widgets/controls",
            "_view_module_version": "1.5.0",
            "_view_name": "HTMLView",
            "description": "",
            "description_tooltip": null,
            "layout": "IPY_MODEL_bd72cda418794effafc8d96f4c49a6b2",
            "placeholder": "​",
            "style": "IPY_MODEL_534df5a697084f47815ace120e77cfa6",
            "value": " 570/570 [00:00&lt;00:00, 4.32kB/s]"
          }
        },
        "368871fea7454dc3b1d3a3991955209f": {
          "model_module": "@jupyter-widgets/base",
          "model_name": "LayoutModel",
          "model_module_version": "1.2.0",
          "state": {
            "_model_module": "@jupyter-widgets/base",
            "_model_module_version": "1.2.0",
            "_model_name": "LayoutModel",
            "_view_count": null,
            "_view_module": "@jupyter-widgets/base",
            "_view_module_version": "1.2.0",
            "_view_name": "LayoutView",
            "align_content": null,
            "align_items": null,
            "align_self": null,
            "border": null,
            "bottom": null,
            "display": null,
            "flex": null,
            "flex_flow": null,
            "grid_area": null,
            "grid_auto_columns": null,
            "grid_auto_flow": null,
            "grid_auto_rows": null,
            "grid_column": null,
            "grid_gap": null,
            "grid_row": null,
            "grid_template_areas": null,
            "grid_template_columns": null,
            "grid_template_rows": null,
            "height": null,
            "justify_content": null,
            "justify_items": null,
            "left": null,
            "margin": null,
            "max_height": null,
            "max_width": null,
            "min_height": null,
            "min_width": null,
            "object_fit": null,
            "object_position": null,
            "order": null,
            "overflow": null,
            "overflow_x": null,
            "overflow_y": null,
            "padding": null,
            "right": null,
            "top": null,
            "visibility": null,
            "width": null
          }
        },
        "b4cea9caf5c14af2b09cea3aa66b2727": {
          "model_module": "@jupyter-widgets/base",
          "model_name": "LayoutModel",
          "model_module_version": "1.2.0",
          "state": {
            "_model_module": "@jupyter-widgets/base",
            "_model_module_version": "1.2.0",
            "_model_name": "LayoutModel",
            "_view_count": null,
            "_view_module": "@jupyter-widgets/base",
            "_view_module_version": "1.2.0",
            "_view_name": "LayoutView",
            "align_content": null,
            "align_items": null,
            "align_self": null,
            "border": null,
            "bottom": null,
            "display": null,
            "flex": null,
            "flex_flow": null,
            "grid_area": null,
            "grid_auto_columns": null,
            "grid_auto_flow": null,
            "grid_auto_rows": null,
            "grid_column": null,
            "grid_gap": null,
            "grid_row": null,
            "grid_template_areas": null,
            "grid_template_columns": null,
            "grid_template_rows": null,
            "height": null,
            "justify_content": null,
            "justify_items": null,
            "left": null,
            "margin": null,
            "max_height": null,
            "max_width": null,
            "min_height": null,
            "min_width": null,
            "object_fit": null,
            "object_position": null,
            "order": null,
            "overflow": null,
            "overflow_x": null,
            "overflow_y": null,
            "padding": null,
            "right": null,
            "top": null,
            "visibility": null,
            "width": null
          }
        },
        "48019fe9f73b49b3a8e7d639eecf0844": {
          "model_module": "@jupyter-widgets/controls",
          "model_name": "DescriptionStyleModel",
          "model_module_version": "1.5.0",
          "state": {
            "_model_module": "@jupyter-widgets/controls",
            "_model_module_version": "1.5.0",
            "_model_name": "DescriptionStyleModel",
            "_view_count": null,
            "_view_module": "@jupyter-widgets/base",
            "_view_module_version": "1.2.0",
            "_view_name": "StyleView",
            "description_width": ""
          }
        },
        "14830c6ee9a6466abd78b24e08d2ebba": {
          "model_module": "@jupyter-widgets/base",
          "model_name": "LayoutModel",
          "model_module_version": "1.2.0",
          "state": {
            "_model_module": "@jupyter-widgets/base",
            "_model_module_version": "1.2.0",
            "_model_name": "LayoutModel",
            "_view_count": null,
            "_view_module": "@jupyter-widgets/base",
            "_view_module_version": "1.2.0",
            "_view_name": "LayoutView",
            "align_content": null,
            "align_items": null,
            "align_self": null,
            "border": null,
            "bottom": null,
            "display": null,
            "flex": null,
            "flex_flow": null,
            "grid_area": null,
            "grid_auto_columns": null,
            "grid_auto_flow": null,
            "grid_auto_rows": null,
            "grid_column": null,
            "grid_gap": null,
            "grid_row": null,
            "grid_template_areas": null,
            "grid_template_columns": null,
            "grid_template_rows": null,
            "height": null,
            "justify_content": null,
            "justify_items": null,
            "left": null,
            "margin": null,
            "max_height": null,
            "max_width": null,
            "min_height": null,
            "min_width": null,
            "object_fit": null,
            "object_position": null,
            "order": null,
            "overflow": null,
            "overflow_x": null,
            "overflow_y": null,
            "padding": null,
            "right": null,
            "top": null,
            "visibility": null,
            "width": null
          }
        },
        "329dfa7a50ba4fbe856e423a65b33c9c": {
          "model_module": "@jupyter-widgets/controls",
          "model_name": "ProgressStyleModel",
          "model_module_version": "1.5.0",
          "state": {
            "_model_module": "@jupyter-widgets/controls",
            "_model_module_version": "1.5.0",
            "_model_name": "ProgressStyleModel",
            "_view_count": null,
            "_view_module": "@jupyter-widgets/base",
            "_view_module_version": "1.2.0",
            "_view_name": "StyleView",
            "bar_color": null,
            "description_width": ""
          }
        },
        "bd72cda418794effafc8d96f4c49a6b2": {
          "model_module": "@jupyter-widgets/base",
          "model_name": "LayoutModel",
          "model_module_version": "1.2.0",
          "state": {
            "_model_module": "@jupyter-widgets/base",
            "_model_module_version": "1.2.0",
            "_model_name": "LayoutModel",
            "_view_count": null,
            "_view_module": "@jupyter-widgets/base",
            "_view_module_version": "1.2.0",
            "_view_name": "LayoutView",
            "align_content": null,
            "align_items": null,
            "align_self": null,
            "border": null,
            "bottom": null,
            "display": null,
            "flex": null,
            "flex_flow": null,
            "grid_area": null,
            "grid_auto_columns": null,
            "grid_auto_flow": null,
            "grid_auto_rows": null,
            "grid_column": null,
            "grid_gap": null,
            "grid_row": null,
            "grid_template_areas": null,
            "grid_template_columns": null,
            "grid_template_rows": null,
            "height": null,
            "justify_content": null,
            "justify_items": null,
            "left": null,
            "margin": null,
            "max_height": null,
            "max_width": null,
            "min_height": null,
            "min_width": null,
            "object_fit": null,
            "object_position": null,
            "order": null,
            "overflow": null,
            "overflow_x": null,
            "overflow_y": null,
            "padding": null,
            "right": null,
            "top": null,
            "visibility": null,
            "width": null
          }
        },
        "534df5a697084f47815ace120e77cfa6": {
          "model_module": "@jupyter-widgets/controls",
          "model_name": "DescriptionStyleModel",
          "model_module_version": "1.5.0",
          "state": {
            "_model_module": "@jupyter-widgets/controls",
            "_model_module_version": "1.5.0",
            "_model_name": "DescriptionStyleModel",
            "_view_count": null,
            "_view_module": "@jupyter-widgets/base",
            "_view_module_version": "1.2.0",
            "_view_name": "StyleView",
            "description_width": ""
          }
        },
        "d841e0d660594da1bc29695a8a4cfdba": {
          "model_module": "@jupyter-widgets/controls",
          "model_name": "HBoxModel",
          "model_module_version": "1.5.0",
          "state": {
            "_dom_classes": [],
            "_model_module": "@jupyter-widgets/controls",
            "_model_module_version": "1.5.0",
            "_model_name": "HBoxModel",
            "_view_count": null,
            "_view_module": "@jupyter-widgets/controls",
            "_view_module_version": "1.5.0",
            "_view_name": "HBoxView",
            "box_style": "",
            "children": [
              "IPY_MODEL_5b5720f8b2c345f7b504cf7e0cf43aee",
              "IPY_MODEL_3695873bf28b4101bc07b9983bde1d7f",
              "IPY_MODEL_e4c74bc6f8bf40059168b8bd3d2aa386"
            ],
            "layout": "IPY_MODEL_31ac540728e84f06bc1caed3b4b8c8ee"
          }
        },
        "5b5720f8b2c345f7b504cf7e0cf43aee": {
          "model_module": "@jupyter-widgets/controls",
          "model_name": "HTMLModel",
          "model_module_version": "1.5.0",
          "state": {
            "_dom_classes": [],
            "_model_module": "@jupyter-widgets/controls",
            "_model_module_version": "1.5.0",
            "_model_name": "HTMLModel",
            "_view_count": null,
            "_view_module": "@jupyter-widgets/controls",
            "_view_module_version": "1.5.0",
            "_view_name": "HTMLView",
            "description": "",
            "description_tooltip": null,
            "layout": "IPY_MODEL_cb1c8a3e2fd04502ac27de58ac92514f",
            "placeholder": "​",
            "style": "IPY_MODEL_b7e662505ebc4dca8f98fdb4110ff25d",
            "value": "Downloading: 100%"
          }
        },
        "3695873bf28b4101bc07b9983bde1d7f": {
          "model_module": "@jupyter-widgets/controls",
          "model_name": "FloatProgressModel",
          "model_module_version": "1.5.0",
          "state": {
            "_dom_classes": [],
            "_model_module": "@jupyter-widgets/controls",
            "_model_module_version": "1.5.0",
            "_model_name": "FloatProgressModel",
            "_view_count": null,
            "_view_module": "@jupyter-widgets/controls",
            "_view_module_version": "1.5.0",
            "_view_name": "ProgressView",
            "bar_style": "success",
            "description": "",
            "description_tooltip": null,
            "layout": "IPY_MODEL_8b7628f343eb4c2fb749aa75031537de",
            "max": 440473133,
            "min": 0,
            "orientation": "horizontal",
            "style": "IPY_MODEL_7337fb48f5464f15b30474af188b77f1",
            "value": 440473133
          }
        },
        "e4c74bc6f8bf40059168b8bd3d2aa386": {
          "model_module": "@jupyter-widgets/controls",
          "model_name": "HTMLModel",
          "model_module_version": "1.5.0",
          "state": {
            "_dom_classes": [],
            "_model_module": "@jupyter-widgets/controls",
            "_model_module_version": "1.5.0",
            "_model_name": "HTMLModel",
            "_view_count": null,
            "_view_module": "@jupyter-widgets/controls",
            "_view_module_version": "1.5.0",
            "_view_name": "HTMLView",
            "description": "",
            "description_tooltip": null,
            "layout": "IPY_MODEL_cfb35db12e7a4365b84407a88e2c3694",
            "placeholder": "​",
            "style": "IPY_MODEL_53c7544bbe554586a7501bc635a6247b",
            "value": " 420M/420M [00:11&lt;00:00, 40.6MB/s]"
          }
        },
        "31ac540728e84f06bc1caed3b4b8c8ee": {
          "model_module": "@jupyter-widgets/base",
          "model_name": "LayoutModel",
          "model_module_version": "1.2.0",
          "state": {
            "_model_module": "@jupyter-widgets/base",
            "_model_module_version": "1.2.0",
            "_model_name": "LayoutModel",
            "_view_count": null,
            "_view_module": "@jupyter-widgets/base",
            "_view_module_version": "1.2.0",
            "_view_name": "LayoutView",
            "align_content": null,
            "align_items": null,
            "align_self": null,
            "border": null,
            "bottom": null,
            "display": null,
            "flex": null,
            "flex_flow": null,
            "grid_area": null,
            "grid_auto_columns": null,
            "grid_auto_flow": null,
            "grid_auto_rows": null,
            "grid_column": null,
            "grid_gap": null,
            "grid_row": null,
            "grid_template_areas": null,
            "grid_template_columns": null,
            "grid_template_rows": null,
            "height": null,
            "justify_content": null,
            "justify_items": null,
            "left": null,
            "margin": null,
            "max_height": null,
            "max_width": null,
            "min_height": null,
            "min_width": null,
            "object_fit": null,
            "object_position": null,
            "order": null,
            "overflow": null,
            "overflow_x": null,
            "overflow_y": null,
            "padding": null,
            "right": null,
            "top": null,
            "visibility": null,
            "width": null
          }
        },
        "cb1c8a3e2fd04502ac27de58ac92514f": {
          "model_module": "@jupyter-widgets/base",
          "model_name": "LayoutModel",
          "model_module_version": "1.2.0",
          "state": {
            "_model_module": "@jupyter-widgets/base",
            "_model_module_version": "1.2.0",
            "_model_name": "LayoutModel",
            "_view_count": null,
            "_view_module": "@jupyter-widgets/base",
            "_view_module_version": "1.2.0",
            "_view_name": "LayoutView",
            "align_content": null,
            "align_items": null,
            "align_self": null,
            "border": null,
            "bottom": null,
            "display": null,
            "flex": null,
            "flex_flow": null,
            "grid_area": null,
            "grid_auto_columns": null,
            "grid_auto_flow": null,
            "grid_auto_rows": null,
            "grid_column": null,
            "grid_gap": null,
            "grid_row": null,
            "grid_template_areas": null,
            "grid_template_columns": null,
            "grid_template_rows": null,
            "height": null,
            "justify_content": null,
            "justify_items": null,
            "left": null,
            "margin": null,
            "max_height": null,
            "max_width": null,
            "min_height": null,
            "min_width": null,
            "object_fit": null,
            "object_position": null,
            "order": null,
            "overflow": null,
            "overflow_x": null,
            "overflow_y": null,
            "padding": null,
            "right": null,
            "top": null,
            "visibility": null,
            "width": null
          }
        },
        "b7e662505ebc4dca8f98fdb4110ff25d": {
          "model_module": "@jupyter-widgets/controls",
          "model_name": "DescriptionStyleModel",
          "model_module_version": "1.5.0",
          "state": {
            "_model_module": "@jupyter-widgets/controls",
            "_model_module_version": "1.5.0",
            "_model_name": "DescriptionStyleModel",
            "_view_count": null,
            "_view_module": "@jupyter-widgets/base",
            "_view_module_version": "1.2.0",
            "_view_name": "StyleView",
            "description_width": ""
          }
        },
        "8b7628f343eb4c2fb749aa75031537de": {
          "model_module": "@jupyter-widgets/base",
          "model_name": "LayoutModel",
          "model_module_version": "1.2.0",
          "state": {
            "_model_module": "@jupyter-widgets/base",
            "_model_module_version": "1.2.0",
            "_model_name": "LayoutModel",
            "_view_count": null,
            "_view_module": "@jupyter-widgets/base",
            "_view_module_version": "1.2.0",
            "_view_name": "LayoutView",
            "align_content": null,
            "align_items": null,
            "align_self": null,
            "border": null,
            "bottom": null,
            "display": null,
            "flex": null,
            "flex_flow": null,
            "grid_area": null,
            "grid_auto_columns": null,
            "grid_auto_flow": null,
            "grid_auto_rows": null,
            "grid_column": null,
            "grid_gap": null,
            "grid_row": null,
            "grid_template_areas": null,
            "grid_template_columns": null,
            "grid_template_rows": null,
            "height": null,
            "justify_content": null,
            "justify_items": null,
            "left": null,
            "margin": null,
            "max_height": null,
            "max_width": null,
            "min_height": null,
            "min_width": null,
            "object_fit": null,
            "object_position": null,
            "order": null,
            "overflow": null,
            "overflow_x": null,
            "overflow_y": null,
            "padding": null,
            "right": null,
            "top": null,
            "visibility": null,
            "width": null
          }
        },
        "7337fb48f5464f15b30474af188b77f1": {
          "model_module": "@jupyter-widgets/controls",
          "model_name": "ProgressStyleModel",
          "model_module_version": "1.5.0",
          "state": {
            "_model_module": "@jupyter-widgets/controls",
            "_model_module_version": "1.5.0",
            "_model_name": "ProgressStyleModel",
            "_view_count": null,
            "_view_module": "@jupyter-widgets/base",
            "_view_module_version": "1.2.0",
            "_view_name": "StyleView",
            "bar_color": null,
            "description_width": ""
          }
        },
        "cfb35db12e7a4365b84407a88e2c3694": {
          "model_module": "@jupyter-widgets/base",
          "model_name": "LayoutModel",
          "model_module_version": "1.2.0",
          "state": {
            "_model_module": "@jupyter-widgets/base",
            "_model_module_version": "1.2.0",
            "_model_name": "LayoutModel",
            "_view_count": null,
            "_view_module": "@jupyter-widgets/base",
            "_view_module_version": "1.2.0",
            "_view_name": "LayoutView",
            "align_content": null,
            "align_items": null,
            "align_self": null,
            "border": null,
            "bottom": null,
            "display": null,
            "flex": null,
            "flex_flow": null,
            "grid_area": null,
            "grid_auto_columns": null,
            "grid_auto_flow": null,
            "grid_auto_rows": null,
            "grid_column": null,
            "grid_gap": null,
            "grid_row": null,
            "grid_template_areas": null,
            "grid_template_columns": null,
            "grid_template_rows": null,
            "height": null,
            "justify_content": null,
            "justify_items": null,
            "left": null,
            "margin": null,
            "max_height": null,
            "max_width": null,
            "min_height": null,
            "min_width": null,
            "object_fit": null,
            "object_position": null,
            "order": null,
            "overflow": null,
            "overflow_x": null,
            "overflow_y": null,
            "padding": null,
            "right": null,
            "top": null,
            "visibility": null,
            "width": null
          }
        },
        "53c7544bbe554586a7501bc635a6247b": {
          "model_module": "@jupyter-widgets/controls",
          "model_name": "DescriptionStyleModel",
          "model_module_version": "1.5.0",
          "state": {
            "_model_module": "@jupyter-widgets/controls",
            "_model_module_version": "1.5.0",
            "_model_name": "DescriptionStyleModel",
            "_view_count": null,
            "_view_module": "@jupyter-widgets/base",
            "_view_module_version": "1.2.0",
            "_view_name": "StyleView",
            "description_width": ""
          }
        }
      }
    }
  },
  "nbformat": 4,
  "nbformat_minor": 5
}